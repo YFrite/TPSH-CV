{
 "cells": [
  {
   "cell_type": "markdown",
   "source": [
    "Install and Import Dependencies"
   ],
   "metadata": {
    "collapsed": false
   },
   "id": "73c36cf8cfe1ed92"
  },
  {
   "cell_type": "code",
   "execution_count": 1,
   "id": "initial_id",
   "metadata": {
    "collapsed": true,
    "ExecuteTime": {
     "end_time": "2024-03-28T08:07:22.583724Z",
     "start_time": "2024-03-28T08:07:22.551670Z"
    }
   },
   "outputs": [
    {
     "name": "stderr",
     "output_type": "stream",
     "text": [
      "fatal: destination path 'yolov5' already exists and is not an empty directory.\n"
     ]
    }
   ],
   "source": [
    "!git clone https://github.com/ultralytics/yolov5"
   ]
  },
  {
   "cell_type": "code",
   "outputs": [
    {
     "name": "stdout",
     "output_type": "stream",
     "text": [
      "Requirement already satisfied: gitpython>=3.1.30 in c:\\users\\newad\\anaconda3\\lib\\site-packages (from -r requirements.txt (line 5)) (3.1.37)\n",
      "Requirement already satisfied: matplotlib>=3.3 in c:\\users\\newad\\anaconda3\\lib\\site-packages (from -r requirements.txt (line 6)) (3.8.0)\n",
      "Requirement already satisfied: numpy>=1.23.5 in c:\\users\\newad\\anaconda3\\lib\\site-packages (from -r requirements.txt (line 7)) (1.26.4)\n",
      "Requirement already satisfied: opencv-python>=4.1.1 in c:\\users\\newad\\anaconda3\\lib\\site-packages (from -r requirements.txt (line 8)) (4.9.0.80)\n",
      "Requirement already satisfied: Pillow>=9.4.0 in c:\\users\\newad\\anaconda3\\lib\\site-packages (from -r requirements.txt (line 9)) (10.2.0)\n",
      "Requirement already satisfied: psutil in c:\\users\\newad\\anaconda3\\lib\\site-packages (from -r requirements.txt (line 10)) (5.9.0)\n",
      "Requirement already satisfied: PyYAML>=5.3.1 in c:\\users\\newad\\anaconda3\\lib\\site-packages (from -r requirements.txt (line 11)) (6.0.1)\n",
      "Requirement already satisfied: requests>=2.23.0 in c:\\users\\newad\\anaconda3\\lib\\site-packages (from -r requirements.txt (line 12)) (2.31.0)\n",
      "Requirement already satisfied: scipy>=1.4.1 in c:\\users\\newad\\anaconda3\\lib\\site-packages (from -r requirements.txt (line 13)) (1.11.4)\n",
      "Requirement already satisfied: thop>=0.1.1 in c:\\users\\newad\\anaconda3\\lib\\site-packages (from -r requirements.txt (line 14)) (0.1.1.post2209072238)\n",
      "Requirement already satisfied: torch>=1.8.0 in c:\\users\\newad\\anaconda3\\lib\\site-packages (from -r requirements.txt (line 15)) (2.2.2+cu121)\n",
      "Requirement already satisfied: torchvision>=0.9.0 in c:\\users\\newad\\anaconda3\\lib\\site-packages (from -r requirements.txt (line 16)) (0.17.2+cu121)\n",
      "Requirement already satisfied: tqdm>=4.64.0 in c:\\users\\newad\\anaconda3\\lib\\site-packages (from -r requirements.txt (line 17)) (4.65.0)\n",
      "Requirement already satisfied: ultralytics>=8.0.232 in c:\\users\\newad\\anaconda3\\lib\\site-packages (from -r requirements.txt (line 18)) (8.1.35)\n",
      "Requirement already satisfied: pandas>=1.1.4 in c:\\users\\newad\\anaconda3\\lib\\site-packages (from -r requirements.txt (line 27)) (2.1.4)\n",
      "Requirement already satisfied: seaborn>=0.11.0 in c:\\users\\newad\\anaconda3\\lib\\site-packages (from -r requirements.txt (line 28)) (0.13.2)\n",
      "Requirement already satisfied: setuptools>=65.5.1 in c:\\users\\newad\\anaconda3\\lib\\site-packages (from -r requirements.txt (line 42)) (68.2.2)\n",
      "Requirement already satisfied: wheel>=0.38.0 in c:\\users\\newad\\anaconda3\\lib\\site-packages (from -r requirements.txt (line 50)) (0.41.2)\n",
      "Requirement already satisfied: gitdb<5,>=4.0.1 in c:\\users\\newad\\anaconda3\\lib\\site-packages (from gitpython>=3.1.30->-r requirements.txt (line 5)) (4.0.7)\n",
      "Requirement already satisfied: contourpy>=1.0.1 in c:\\users\\newad\\anaconda3\\lib\\site-packages (from matplotlib>=3.3->-r requirements.txt (line 6)) (1.2.0)\n",
      "Requirement already satisfied: cycler>=0.10 in c:\\users\\newad\\anaconda3\\lib\\site-packages (from matplotlib>=3.3->-r requirements.txt (line 6)) (0.10.0)\n",
      "Requirement already satisfied: fonttools>=4.22.0 in c:\\users\\newad\\anaconda3\\lib\\site-packages (from matplotlib>=3.3->-r requirements.txt (line 6)) (4.25.0)\n",
      "Requirement already satisfied: kiwisolver>=1.0.1 in c:\\users\\newad\\anaconda3\\lib\\site-packages (from matplotlib>=3.3->-r requirements.txt (line 6)) (1.4.4)\n",
      "Requirement already satisfied: packaging>=20.0 in c:\\users\\newad\\anaconda3\\lib\\site-packages (from matplotlib>=3.3->-r requirements.txt (line 6)) (23.1)\n",
      "Requirement already satisfied: pyparsing>=2.3.1 in c:\\users\\newad\\anaconda3\\lib\\site-packages (from matplotlib>=3.3->-r requirements.txt (line 6)) (3.0.9)\n",
      "Requirement already satisfied: python-dateutil>=2.7 in c:\\users\\newad\\anaconda3\\lib\\site-packages (from matplotlib>=3.3->-r requirements.txt (line 6)) (2.8.2)\n",
      "Requirement already satisfied: charset-normalizer<4,>=2 in c:\\users\\newad\\anaconda3\\lib\\site-packages (from requests>=2.23.0->-r requirements.txt (line 12)) (2.0.4)\n",
      "Requirement already satisfied: idna<4,>=2.5 in c:\\users\\newad\\anaconda3\\lib\\site-packages (from requests>=2.23.0->-r requirements.txt (line 12)) (2.10)\n",
      "Requirement already satisfied: urllib3<3,>=1.21.1 in c:\\users\\newad\\anaconda3\\lib\\site-packages (from requests>=2.23.0->-r requirements.txt (line 12)) (2.0.7)\n",
      "Requirement already satisfied: certifi>=2017.4.17 in c:\\users\\newad\\anaconda3\\lib\\site-packages (from requests>=2.23.0->-r requirements.txt (line 12)) (2023.7.22)\n",
      "Requirement already satisfied: filelock in c:\\users\\newad\\anaconda3\\lib\\site-packages (from torch>=1.8.0->-r requirements.txt (line 15)) (3.13.1)\n",
      "Requirement already satisfied: typing-extensions>=4.8.0 in c:\\users\\newad\\anaconda3\\lib\\site-packages (from torch>=1.8.0->-r requirements.txt (line 15)) (4.9.0)\n",
      "Requirement already satisfied: sympy in c:\\users\\newad\\anaconda3\\lib\\site-packages (from torch>=1.8.0->-r requirements.txt (line 15)) (1.12)\n",
      "Requirement already satisfied: networkx in c:\\users\\newad\\anaconda3\\lib\\site-packages (from torch>=1.8.0->-r requirements.txt (line 15)) (3.1)\n",
      "Requirement already satisfied: jinja2 in c:\\users\\newad\\anaconda3\\lib\\site-packages (from torch>=1.8.0->-r requirements.txt (line 15)) (3.1.3)\n",
      "Requirement already satisfied: fsspec in c:\\users\\newad\\anaconda3\\lib\\site-packages (from torch>=1.8.0->-r requirements.txt (line 15)) (2023.10.0)\n",
      "Requirement already satisfied: colorama in c:\\users\\newad\\anaconda3\\lib\\site-packages (from tqdm>=4.64.0->-r requirements.txt (line 17)) (0.4.6)\n",
      "Requirement already satisfied: py-cpuinfo in c:\\users\\newad\\anaconda3\\lib\\site-packages (from ultralytics>=8.0.232->-r requirements.txt (line 18)) (9.0.0)\n",
      "Requirement already satisfied: pytz>=2020.1 in c:\\users\\newad\\anaconda3\\lib\\site-packages (from pandas>=1.1.4->-r requirements.txt (line 27)) (2023.3.post1)\n",
      "Requirement already satisfied: tzdata>=2022.1 in c:\\users\\newad\\anaconda3\\lib\\site-packages (from pandas>=1.1.4->-r requirements.txt (line 27)) (2023.3)\n",
      "Requirement already satisfied: six in c:\\users\\newad\\anaconda3\\lib\\site-packages (from cycler>=0.10->matplotlib>=3.3->-r requirements.txt (line 6)) (1.16.0)\n",
      "Requirement already satisfied: smmap<5,>=3.0.1 in c:\\users\\newad\\anaconda3\\lib\\site-packages (from gitdb<5,>=4.0.1->gitpython>=3.1.30->-r requirements.txt (line 5)) (4.0.0)\n",
      "Requirement already satisfied: MarkupSafe>=2.0 in c:\\users\\newad\\anaconda3\\lib\\site-packages (from jinja2->torch>=1.8.0->-r requirements.txt (line 15)) (2.1.3)\n",
      "Requirement already satisfied: mpmath>=0.19 in c:\\users\\newad\\anaconda3\\lib\\site-packages (from sympy->torch>=1.8.0->-r requirements.txt (line 15)) (1.3.0)\n"
     ]
    }
   ],
   "source": [
    "!cd yolov5 & pip install -r requirements.txt"
   ],
   "metadata": {
    "collapsed": false,
    "ExecuteTime": {
     "end_time": "2024-03-28T08:07:24.926489Z",
     "start_time": "2024-03-28T08:07:22.584728Z"
    }
   },
   "id": "57ae933983a80212",
   "execution_count": 2
  },
  {
   "cell_type": "code",
   "outputs": [
    {
     "name": "stdout",
     "output_type": "stream",
     "text": [
      "Requirement already satisfied: opencv-python in c:\\users\\newad\\anaconda3\\lib\\site-packages (4.9.0.80)\n",
      "Requirement already satisfied: numpy>=1.21.2 in c:\\users\\newad\\anaconda3\\lib\\site-packages (from opencv-python) (1.26.4)\n"
     ]
    }
   ],
   "source": [
    "!pip install opencv-python"
   ],
   "metadata": {
    "collapsed": false,
    "ExecuteTime": {
     "end_time": "2024-03-28T08:07:26.731426Z",
     "start_time": "2024-03-28T08:07:24.927493Z"
    }
   },
   "id": "f398194a297c49e",
   "execution_count": 3
  },
  {
   "cell_type": "code",
   "outputs": [],
   "source": [
    "import torch\n",
    "import matplotlib.pyplot as plt\n",
    "import numpy as np\n",
    "import cv2"
   ],
   "metadata": {
    "collapsed": false,
    "is_executing": true
   },
   "id": "5ff8dd16ba8d05e8",
   "execution_count": null
  },
  {
   "cell_type": "markdown",
   "source": [
    "Load Model"
   ],
   "metadata": {
    "collapsed": false
   },
   "id": "fecea28169131ff2"
  },
  {
   "cell_type": "code",
   "outputs": [
    {
     "name": "stderr",
     "output_type": "stream",
     "text": [
      "Using cache found in C:\\Users\\newad/.cache\\torch\\hub\\ultralytics_yolov5_master\n",
      "YOLOv5  2024-3-28 Python-3.11.7 torch-2.2.2+cu121 CUDA:0 (NVIDIA GeForce RTX 4070, 12282MiB)\n",
      "\n",
      "Fusing layers... \n",
      "YOLOv5s summary: 213 layers, 7225885 parameters, 0 gradients, 16.4 GFLOPs\n",
      "Adding AutoShape... \n"
     ]
    }
   ],
   "source": [
    "model = torch.hub.load('ultralytics/yolov5', 'yolov5s', pretrained=True)"
   ],
   "metadata": {
    "collapsed": false,
    "ExecuteTime": {
     "end_time": "2024-03-28T08:07:39.217840Z",
     "start_time": "2024-03-28T08:07:29.104575Z"
    }
   },
   "id": "f738820ce3c0c5bb",
   "execution_count": 5
  },
  {
   "cell_type": "code",
   "outputs": [
    {
     "data": {
      "text/plain": "AutoShape(\n  (model): DetectMultiBackend(\n    (model): DetectionModel(\n      (model): Sequential(\n        (0): Conv(\n          (conv): Conv2d(3, 32, kernel_size=(6, 6), stride=(2, 2), padding=(2, 2))\n          (act): SiLU(inplace=True)\n        )\n        (1): Conv(\n          (conv): Conv2d(32, 64, kernel_size=(3, 3), stride=(2, 2), padding=(1, 1))\n          (act): SiLU(inplace=True)\n        )\n        (2): C3(\n          (cv1): Conv(\n            (conv): Conv2d(64, 32, kernel_size=(1, 1), stride=(1, 1))\n            (act): SiLU(inplace=True)\n          )\n          (cv2): Conv(\n            (conv): Conv2d(64, 32, kernel_size=(1, 1), stride=(1, 1))\n            (act): SiLU(inplace=True)\n          )\n          (cv3): Conv(\n            (conv): Conv2d(64, 64, kernel_size=(1, 1), stride=(1, 1))\n            (act): SiLU(inplace=True)\n          )\n          (m): Sequential(\n            (0): Bottleneck(\n              (cv1): Conv(\n                (conv): Conv2d(32, 32, kernel_size=(1, 1), stride=(1, 1))\n                (act): SiLU(inplace=True)\n              )\n              (cv2): Conv(\n                (conv): Conv2d(32, 32, kernel_size=(3, 3), stride=(1, 1), padding=(1, 1))\n                (act): SiLU(inplace=True)\n              )\n            )\n          )\n        )\n        (3): Conv(\n          (conv): Conv2d(64, 128, kernel_size=(3, 3), stride=(2, 2), padding=(1, 1))\n          (act): SiLU(inplace=True)\n        )\n        (4): C3(\n          (cv1): Conv(\n            (conv): Conv2d(128, 64, kernel_size=(1, 1), stride=(1, 1))\n            (act): SiLU(inplace=True)\n          )\n          (cv2): Conv(\n            (conv): Conv2d(128, 64, kernel_size=(1, 1), stride=(1, 1))\n            (act): SiLU(inplace=True)\n          )\n          (cv3): Conv(\n            (conv): Conv2d(128, 128, kernel_size=(1, 1), stride=(1, 1))\n            (act): SiLU(inplace=True)\n          )\n          (m): Sequential(\n            (0): Bottleneck(\n              (cv1): Conv(\n                (conv): Conv2d(64, 64, kernel_size=(1, 1), stride=(1, 1))\n                (act): SiLU(inplace=True)\n              )\n              (cv2): Conv(\n                (conv): Conv2d(64, 64, kernel_size=(3, 3), stride=(1, 1), padding=(1, 1))\n                (act): SiLU(inplace=True)\n              )\n            )\n            (1): Bottleneck(\n              (cv1): Conv(\n                (conv): Conv2d(64, 64, kernel_size=(1, 1), stride=(1, 1))\n                (act): SiLU(inplace=True)\n              )\n              (cv2): Conv(\n                (conv): Conv2d(64, 64, kernel_size=(3, 3), stride=(1, 1), padding=(1, 1))\n                (act): SiLU(inplace=True)\n              )\n            )\n          )\n        )\n        (5): Conv(\n          (conv): Conv2d(128, 256, kernel_size=(3, 3), stride=(2, 2), padding=(1, 1))\n          (act): SiLU(inplace=True)\n        )\n        (6): C3(\n          (cv1): Conv(\n            (conv): Conv2d(256, 128, kernel_size=(1, 1), stride=(1, 1))\n            (act): SiLU(inplace=True)\n          )\n          (cv2): Conv(\n            (conv): Conv2d(256, 128, kernel_size=(1, 1), stride=(1, 1))\n            (act): SiLU(inplace=True)\n          )\n          (cv3): Conv(\n            (conv): Conv2d(256, 256, kernel_size=(1, 1), stride=(1, 1))\n            (act): SiLU(inplace=True)\n          )\n          (m): Sequential(\n            (0): Bottleneck(\n              (cv1): Conv(\n                (conv): Conv2d(128, 128, kernel_size=(1, 1), stride=(1, 1))\n                (act): SiLU(inplace=True)\n              )\n              (cv2): Conv(\n                (conv): Conv2d(128, 128, kernel_size=(3, 3), stride=(1, 1), padding=(1, 1))\n                (act): SiLU(inplace=True)\n              )\n            )\n            (1): Bottleneck(\n              (cv1): Conv(\n                (conv): Conv2d(128, 128, kernel_size=(1, 1), stride=(1, 1))\n                (act): SiLU(inplace=True)\n              )\n              (cv2): Conv(\n                (conv): Conv2d(128, 128, kernel_size=(3, 3), stride=(1, 1), padding=(1, 1))\n                (act): SiLU(inplace=True)\n              )\n            )\n            (2): Bottleneck(\n              (cv1): Conv(\n                (conv): Conv2d(128, 128, kernel_size=(1, 1), stride=(1, 1))\n                (act): SiLU(inplace=True)\n              )\n              (cv2): Conv(\n                (conv): Conv2d(128, 128, kernel_size=(3, 3), stride=(1, 1), padding=(1, 1))\n                (act): SiLU(inplace=True)\n              )\n            )\n          )\n        )\n        (7): Conv(\n          (conv): Conv2d(256, 512, kernel_size=(3, 3), stride=(2, 2), padding=(1, 1))\n          (act): SiLU(inplace=True)\n        )\n        (8): C3(\n          (cv1): Conv(\n            (conv): Conv2d(512, 256, kernel_size=(1, 1), stride=(1, 1))\n            (act): SiLU(inplace=True)\n          )\n          (cv2): Conv(\n            (conv): Conv2d(512, 256, kernel_size=(1, 1), stride=(1, 1))\n            (act): SiLU(inplace=True)\n          )\n          (cv3): Conv(\n            (conv): Conv2d(512, 512, kernel_size=(1, 1), stride=(1, 1))\n            (act): SiLU(inplace=True)\n          )\n          (m): Sequential(\n            (0): Bottleneck(\n              (cv1): Conv(\n                (conv): Conv2d(256, 256, kernel_size=(1, 1), stride=(1, 1))\n                (act): SiLU(inplace=True)\n              )\n              (cv2): Conv(\n                (conv): Conv2d(256, 256, kernel_size=(3, 3), stride=(1, 1), padding=(1, 1))\n                (act): SiLU(inplace=True)\n              )\n            )\n          )\n        )\n        (9): SPPF(\n          (cv1): Conv(\n            (conv): Conv2d(512, 256, kernel_size=(1, 1), stride=(1, 1))\n            (act): SiLU(inplace=True)\n          )\n          (cv2): Conv(\n            (conv): Conv2d(1024, 512, kernel_size=(1, 1), stride=(1, 1))\n            (act): SiLU(inplace=True)\n          )\n          (m): MaxPool2d(kernel_size=5, stride=1, padding=2, dilation=1, ceil_mode=False)\n        )\n        (10): Conv(\n          (conv): Conv2d(512, 256, kernel_size=(1, 1), stride=(1, 1))\n          (act): SiLU(inplace=True)\n        )\n        (11): Upsample(scale_factor=2.0, mode='nearest')\n        (12): Concat()\n        (13): C3(\n          (cv1): Conv(\n            (conv): Conv2d(512, 128, kernel_size=(1, 1), stride=(1, 1))\n            (act): SiLU(inplace=True)\n          )\n          (cv2): Conv(\n            (conv): Conv2d(512, 128, kernel_size=(1, 1), stride=(1, 1))\n            (act): SiLU(inplace=True)\n          )\n          (cv3): Conv(\n            (conv): Conv2d(256, 256, kernel_size=(1, 1), stride=(1, 1))\n            (act): SiLU(inplace=True)\n          )\n          (m): Sequential(\n            (0): Bottleneck(\n              (cv1): Conv(\n                (conv): Conv2d(128, 128, kernel_size=(1, 1), stride=(1, 1))\n                (act): SiLU(inplace=True)\n              )\n              (cv2): Conv(\n                (conv): Conv2d(128, 128, kernel_size=(3, 3), stride=(1, 1), padding=(1, 1))\n                (act): SiLU(inplace=True)\n              )\n            )\n          )\n        )\n        (14): Conv(\n          (conv): Conv2d(256, 128, kernel_size=(1, 1), stride=(1, 1))\n          (act): SiLU(inplace=True)\n        )\n        (15): Upsample(scale_factor=2.0, mode='nearest')\n        (16): Concat()\n        (17): C3(\n          (cv1): Conv(\n            (conv): Conv2d(256, 64, kernel_size=(1, 1), stride=(1, 1))\n            (act): SiLU(inplace=True)\n          )\n          (cv2): Conv(\n            (conv): Conv2d(256, 64, kernel_size=(1, 1), stride=(1, 1))\n            (act): SiLU(inplace=True)\n          )\n          (cv3): Conv(\n            (conv): Conv2d(128, 128, kernel_size=(1, 1), stride=(1, 1))\n            (act): SiLU(inplace=True)\n          )\n          (m): Sequential(\n            (0): Bottleneck(\n              (cv1): Conv(\n                (conv): Conv2d(64, 64, kernel_size=(1, 1), stride=(1, 1))\n                (act): SiLU(inplace=True)\n              )\n              (cv2): Conv(\n                (conv): Conv2d(64, 64, kernel_size=(3, 3), stride=(1, 1), padding=(1, 1))\n                (act): SiLU(inplace=True)\n              )\n            )\n          )\n        )\n        (18): Conv(\n          (conv): Conv2d(128, 128, kernel_size=(3, 3), stride=(2, 2), padding=(1, 1))\n          (act): SiLU(inplace=True)\n        )\n        (19): Concat()\n        (20): C3(\n          (cv1): Conv(\n            (conv): Conv2d(256, 128, kernel_size=(1, 1), stride=(1, 1))\n            (act): SiLU(inplace=True)\n          )\n          (cv2): Conv(\n            (conv): Conv2d(256, 128, kernel_size=(1, 1), stride=(1, 1))\n            (act): SiLU(inplace=True)\n          )\n          (cv3): Conv(\n            (conv): Conv2d(256, 256, kernel_size=(1, 1), stride=(1, 1))\n            (act): SiLU(inplace=True)\n          )\n          (m): Sequential(\n            (0): Bottleneck(\n              (cv1): Conv(\n                (conv): Conv2d(128, 128, kernel_size=(1, 1), stride=(1, 1))\n                (act): SiLU(inplace=True)\n              )\n              (cv2): Conv(\n                (conv): Conv2d(128, 128, kernel_size=(3, 3), stride=(1, 1), padding=(1, 1))\n                (act): SiLU(inplace=True)\n              )\n            )\n          )\n        )\n        (21): Conv(\n          (conv): Conv2d(256, 256, kernel_size=(3, 3), stride=(2, 2), padding=(1, 1))\n          (act): SiLU(inplace=True)\n        )\n        (22): Concat()\n        (23): C3(\n          (cv1): Conv(\n            (conv): Conv2d(512, 256, kernel_size=(1, 1), stride=(1, 1))\n            (act): SiLU(inplace=True)\n          )\n          (cv2): Conv(\n            (conv): Conv2d(512, 256, kernel_size=(1, 1), stride=(1, 1))\n            (act): SiLU(inplace=True)\n          )\n          (cv3): Conv(\n            (conv): Conv2d(512, 512, kernel_size=(1, 1), stride=(1, 1))\n            (act): SiLU(inplace=True)\n          )\n          (m): Sequential(\n            (0): Bottleneck(\n              (cv1): Conv(\n                (conv): Conv2d(256, 256, kernel_size=(1, 1), stride=(1, 1))\n                (act): SiLU(inplace=True)\n              )\n              (cv2): Conv(\n                (conv): Conv2d(256, 256, kernel_size=(3, 3), stride=(1, 1), padding=(1, 1))\n                (act): SiLU(inplace=True)\n              )\n            )\n          )\n        )\n        (24): Detect(\n          (m): ModuleList(\n            (0): Conv2d(128, 255, kernel_size=(1, 1), stride=(1, 1))\n            (1): Conv2d(256, 255, kernel_size=(1, 1), stride=(1, 1))\n            (2): Conv2d(512, 255, kernel_size=(1, 1), stride=(1, 1))\n          )\n        )\n      )\n    )\n  )\n)"
     },
     "execution_count": 6,
     "metadata": {},
     "output_type": "execute_result"
    }
   ],
   "source": [
    "model"
   ],
   "metadata": {
    "collapsed": false,
    "ExecuteTime": {
     "end_time": "2024-03-28T08:07:39.223781Z",
     "start_time": "2024-03-28T08:07:39.217840Z"
    }
   },
   "id": "a09408c98ff98807",
   "execution_count": 6
  },
  {
   "cell_type": "markdown",
   "source": [
    "Make Detections"
   ],
   "metadata": {
    "collapsed": false
   },
   "id": "e85f2508e464197e"
  },
  {
   "cell_type": "code",
   "outputs": [],
   "source": [
    "img = 'https://ultralytics.com/images/zidane.jpg'"
   ],
   "metadata": {
    "collapsed": false,
    "ExecuteTime": {
     "end_time": "2024-03-28T08:07:39.226586Z",
     "start_time": "2024-03-28T08:07:39.224785Z"
    }
   },
   "id": "dd85d4084614d895",
   "execution_count": 7
  },
  {
   "cell_type": "code",
   "outputs": [
    {
     "name": "stderr",
     "output_type": "stream",
     "text": [
      "image 1/1: 720x1280 2 persons, 2 ties\n",
      "Speed: 2667.6ms pre-process, 76.0ms inference, 129.1ms NMS per image at shape (1, 3, 384, 640)\n"
     ]
    }
   ],
   "source": [
    "results = model(img)\n",
    "results.print()"
   ],
   "metadata": {
    "collapsed": false,
    "ExecuteTime": {
     "end_time": "2024-03-28T08:07:42.151654Z",
     "start_time": "2024-03-28T08:07:39.226586Z"
    }
   },
   "id": "dbb819b89c7fcf52",
   "execution_count": 8
  },
  {
   "cell_type": "markdown",
   "source": [
    "Real Time Detections"
   ],
   "metadata": {
    "collapsed": false
   },
   "id": "e8a1625c60feb403"
  },
  {
   "cell_type": "code",
   "outputs": [
    {
     "ename": "KeyboardInterrupt",
     "evalue": "",
     "output_type": "error",
     "traceback": [
      "\u001B[1;31m---------------------------------------------------------------------------\u001B[0m",
      "\u001B[1;31mKeyboardInterrupt\u001B[0m                         Traceback (most recent call last)",
      "Cell \u001B[1;32mIn[9], line 7\u001B[0m\n\u001B[0;32m      4\u001B[0m cap\u001B[38;5;241m.\u001B[39mset(cv2\u001B[38;5;241m.\u001B[39mCAP_PROP_FPS, \u001B[38;5;241m100\u001B[39m)\n\u001B[0;32m      6\u001B[0m \u001B[38;5;28;01mwhile\u001B[39;00m cap\u001B[38;5;241m.\u001B[39misOpened(): \n\u001B[1;32m----> 7\u001B[0m     ret, frame \u001B[38;5;241m=\u001B[39m cap\u001B[38;5;241m.\u001B[39mread()\n\u001B[0;32m      9\u001B[0m     results \u001B[38;5;241m=\u001B[39m model(frame)\n\u001B[0;32m     11\u001B[0m     cv2\u001B[38;5;241m.\u001B[39mimshow(\u001B[38;5;124m'\u001B[39m\u001B[38;5;124mYOLO\u001B[39m\u001B[38;5;124m'\u001B[39m, np\u001B[38;5;241m.\u001B[39msqueeze(results\u001B[38;5;241m.\u001B[39mrender()))\n",
      "\u001B[1;31mKeyboardInterrupt\u001B[0m: "
     ]
    }
   ],
   "source": [
    "cap = cv2.VideoCapture(0)\n",
    "cap.set(cv2.CAP_PROP_FRAME_WIDTH, 1920)\n",
    "cap.set(cv2.CAP_PROP_FRAME_HEIGHT, 1080)\n",
    "cap.set(cv2.CAP_PROP_FPS, 100)\n",
    "\n",
    "while cap.isOpened(): \n",
    "    ret, frame = cap.read()\n",
    "    \n",
    "    results = model(frame)\n",
    "    \n",
    "    cv2.imshow('YOLO', np.squeeze(results.render()))\n",
    "    \n",
    "    if cv2.waitKey(10) & 0xFF == ord('q'):\n",
    "        break\n",
    "cap.release()\n",
    "cv2.destroyAllWindows()"
   ],
   "metadata": {
    "collapsed": false,
    "ExecuteTime": {
     "end_time": "2024-03-28T08:08:42.562024Z",
     "start_time": "2024-03-28T08:07:42.151654Z"
    }
   },
   "id": "38c593344fbd201a",
   "execution_count": 9
  },
  {
   "cell_type": "markdown",
   "source": [
    "йTrain from scratch"
   ],
   "metadata": {
    "collapsed": false
   },
   "id": "ab5e432ae3648cc7"
  },
  {
   "cell_type": "code",
   "outputs": [],
   "source": [
    "!dir"
   ],
   "metadata": {
    "collapsed": false,
    "ExecuteTime": {
     "end_time": "2024-03-28T08:08:42.563028Z",
     "start_time": "2024-03-28T08:08:42.563028Z"
    }
   },
   "id": "b98ab9479119bd3b",
   "execution_count": null
  },
  {
   "cell_type": "code",
   "outputs": [],
   "source": [
    "!cd yolov5 && dir\n"
   ],
   "metadata": {
    "collapsed": false,
    "ExecuteTime": {
     "start_time": "2024-03-28T08:08:42.563028Z"
    }
   },
   "id": "9f30548f8bc4a62c",
   "execution_count": null
  },
  {
   "cell_type": "code",
   "outputs": [],
   "source": [],
   "metadata": {
    "collapsed": false,
    "ExecuteTime": {
     "start_time": "2024-03-28T08:08:42.564029Z"
    }
   },
   "id": "d1a7528cd2034a5",
   "execution_count": null
  },
  {
   "cell_type": "code",
   "outputs": [],
   "source": [
    "!python train.py --img 640 --batch 256 --epochs 1 --data dataset.yaml --weights yolov5s.pt --workers 32"
   ],
   "metadata": {
    "collapsed": false,
    "ExecuteTime": {
     "start_time": "2024-03-28T08:08:42.564029Z"
    }
   },
   "id": "b96c31ab840a5eed",
   "execution_count": null
  },
  {
   "cell_type": "markdown",
   "source": [
    "Load Model"
   ],
   "metadata": {
    "collapsed": false
   },
   "id": "94c685866f140604"
  },
  {
   "cell_type": "code",
   "outputs": [],
   "source": [
    "import torch"
   ],
   "metadata": {
    "collapsed": false,
    "ExecuteTime": {
     "end_time": "2024-03-29T02:10:29.931812Z",
     "start_time": "2024-03-29T02:10:25.888180Z"
    }
   },
   "id": "a00225e5224254c",
   "execution_count": 2
  },
  {
   "cell_type": "code",
   "outputs": [],
   "source": [
    "import pathlib\n",
    "temp = pathlib.PosixPath\n",
    "pathlib.PosixPath = pathlib.WindowsPath"
   ],
   "metadata": {
    "collapsed": false,
    "ExecuteTime": {
     "end_time": "2024-03-29T02:59:49.740369Z",
     "start_time": "2024-03-29T02:59:49.737408Z"
    }
   },
   "id": "47a1d41f30b307c4",
   "execution_count": 36
  },
  {
   "cell_type": "code",
   "outputs": [
    {
     "name": "stderr",
     "output_type": "stream",
     "text": [
      "Cloning into 'yolov9'...\n"
     ]
    },
    {
     "name": "stdout",
     "output_type": "stream",
     "text": [
      "Requirement already satisfied: gitpython in c:\\users\\newad\\anaconda3\\lib\\site-packages (from -r yolov9/requirements.txt (line 5)) (3.1.37)\n",
      "Requirement already satisfied: ipython in c:\\users\\newad\\anaconda3\\lib\\site-packages (from -r yolov9/requirements.txt (line 6)) (8.20.0)\n",
      "Requirement already satisfied: matplotlib>=3.2.2 in c:\\users\\newad\\anaconda3\\lib\\site-packages (from -r yolov9/requirements.txt (line 7)) (3.8.0)\n",
      "Requirement already satisfied: numpy>=1.18.5 in c:\\users\\newad\\anaconda3\\lib\\site-packages (from -r yolov9/requirements.txt (line 8)) (1.26.4)\n",
      "Requirement already satisfied: opencv-python>=4.1.1 in c:\\users\\newad\\anaconda3\\lib\\site-packages (from -r yolov9/requirements.txt (line 9)) (4.9.0.80)\n",
      "Requirement already satisfied: Pillow>=7.1.2 in c:\\users\\newad\\anaconda3\\lib\\site-packages (from -r yolov9/requirements.txt (line 10)) (10.2.0)\n",
      "Requirement already satisfied: psutil in c:\\users\\newad\\anaconda3\\lib\\site-packages (from -r yolov9/requirements.txt (line 11)) (5.9.0)\n",
      "Requirement already satisfied: PyYAML>=5.3.1 in c:\\users\\newad\\anaconda3\\lib\\site-packages (from -r yolov9/requirements.txt (line 12)) (6.0.1)\n",
      "Requirement already satisfied: requests>=2.23.0 in c:\\users\\newad\\anaconda3\\lib\\site-packages (from -r yolov9/requirements.txt (line 13)) (2.31.0)\n",
      "Requirement already satisfied: scipy>=1.4.1 in c:\\users\\newad\\anaconda3\\lib\\site-packages (from -r yolov9/requirements.txt (line 14)) (1.11.4)\n",
      "Requirement already satisfied: thop>=0.1.1 in c:\\users\\newad\\anaconda3\\lib\\site-packages (from -r yolov9/requirements.txt (line 15)) (0.1.1.post2209072238)\n",
      "Requirement already satisfied: torch>=1.7.0 in c:\\users\\newad\\anaconda3\\lib\\site-packages (from -r yolov9/requirements.txt (line 16)) (2.2.2+cu121)\n",
      "Requirement already satisfied: torchvision>=0.8.1 in c:\\users\\newad\\anaconda3\\lib\\site-packages (from -r yolov9/requirements.txt (line 17)) (0.17.2+cu121)\n",
      "Requirement already satisfied: tqdm>=4.64.0 in c:\\users\\newad\\anaconda3\\lib\\site-packages (from -r yolov9/requirements.txt (line 18)) (4.65.0)\n",
      "Requirement already satisfied: tensorboard>=2.4.1 in c:\\users\\newad\\anaconda3\\lib\\site-packages (from -r yolov9/requirements.txt (line 22)) (2.16.2)\n",
      "Requirement already satisfied: pandas>=1.1.4 in c:\\users\\newad\\anaconda3\\lib\\site-packages (from -r yolov9/requirements.txt (line 27)) (2.1.4)\n",
      "Requirement already satisfied: seaborn>=0.11.0 in c:\\users\\newad\\anaconda3\\lib\\site-packages (from -r yolov9/requirements.txt (line 28)) (0.13.2)\n",
      "Requirement already satisfied: albumentations>=1.0.3 in c:\\users\\newad\\anaconda3\\lib\\site-packages (from -r yolov9/requirements.txt (line 46)) (1.4.2)\n",
      "Requirement already satisfied: pycocotools>=2.0 in c:\\users\\newad\\anaconda3\\lib\\site-packages (from -r yolov9/requirements.txt (line 47)) (2.0.7)\n",
      "Requirement already satisfied: gitdb<5,>=4.0.1 in c:\\users\\newad\\anaconda3\\lib\\site-packages (from gitpython->-r yolov9/requirements.txt (line 5)) (4.0.7)\n",
      "Requirement already satisfied: decorator in c:\\users\\newad\\anaconda3\\lib\\site-packages (from ipython->-r yolov9/requirements.txt (line 6)) (5.1.1)\n",
      "Requirement already satisfied: jedi>=0.16 in c:\\users\\newad\\anaconda3\\lib\\site-packages (from ipython->-r yolov9/requirements.txt (line 6)) (0.18.1)\n",
      "Requirement already satisfied: matplotlib-inline in c:\\users\\newad\\anaconda3\\lib\\site-packages (from ipython->-r yolov9/requirements.txt (line 6)) (0.1.6)\n",
      "Requirement already satisfied: prompt-toolkit<3.1.0,>=3.0.41 in c:\\users\\newad\\anaconda3\\lib\\site-packages (from ipython->-r yolov9/requirements.txt (line 6)) (3.0.43)\n",
      "Requirement already satisfied: pygments>=2.4.0 in c:\\users\\newad\\anaconda3\\lib\\site-packages (from ipython->-r yolov9/requirements.txt (line 6)) (2.15.1)\n",
      "Requirement already satisfied: stack-data in c:\\users\\newad\\anaconda3\\lib\\site-packages (from ipython->-r yolov9/requirements.txt (line 6)) (0.2.0)\n",
      "Requirement already satisfied: traitlets>=5 in c:\\users\\newad\\anaconda3\\lib\\site-packages (from ipython->-r yolov9/requirements.txt (line 6)) (5.7.1)\n",
      "Requirement already satisfied: colorama in c:\\users\\newad\\anaconda3\\lib\\site-packages (from ipython->-r yolov9/requirements.txt (line 6)) (0.4.6)\n",
      "Requirement already satisfied: contourpy>=1.0.1 in c:\\users\\newad\\anaconda3\\lib\\site-packages (from matplotlib>=3.2.2->-r yolov9/requirements.txt (line 7)) (1.2.0)\n",
      "Requirement already satisfied: cycler>=0.10 in c:\\users\\newad\\anaconda3\\lib\\site-packages (from matplotlib>=3.2.2->-r yolov9/requirements.txt (line 7)) (0.10.0)\n",
      "Requirement already satisfied: fonttools>=4.22.0 in c:\\users\\newad\\anaconda3\\lib\\site-packages (from matplotlib>=3.2.2->-r yolov9/requirements.txt (line 7)) (4.25.0)\n",
      "Requirement already satisfied: kiwisolver>=1.0.1 in c:\\users\\newad\\anaconda3\\lib\\site-packages (from matplotlib>=3.2.2->-r yolov9/requirements.txt (line 7)) (1.4.4)\n",
      "Requirement already satisfied: packaging>=20.0 in c:\\users\\newad\\anaconda3\\lib\\site-packages (from matplotlib>=3.2.2->-r yolov9/requirements.txt (line 7)) (23.1)\n",
      "Requirement already satisfied: pyparsing>=2.3.1 in c:\\users\\newad\\anaconda3\\lib\\site-packages (from matplotlib>=3.2.2->-r yolov9/requirements.txt (line 7)) (3.0.9)\n",
      "Requirement already satisfied: python-dateutil>=2.7 in c:\\users\\newad\\anaconda3\\lib\\site-packages (from matplotlib>=3.2.2->-r yolov9/requirements.txt (line 7)) (2.8.2)\n",
      "Requirement already satisfied: charset-normalizer<4,>=2 in c:\\users\\newad\\anaconda3\\lib\\site-packages (from requests>=2.23.0->-r yolov9/requirements.txt (line 13)) (2.0.4)\n",
      "Requirement already satisfied: idna<4,>=2.5 in c:\\users\\newad\\anaconda3\\lib\\site-packages (from requests>=2.23.0->-r yolov9/requirements.txt (line 13)) (2.10)\n",
      "Requirement already satisfied: urllib3<3,>=1.21.1 in c:\\users\\newad\\anaconda3\\lib\\site-packages (from requests>=2.23.0->-r yolov9/requirements.txt (line 13)) (2.0.7)\n",
      "Requirement already satisfied: certifi>=2017.4.17 in c:\\users\\newad\\anaconda3\\lib\\site-packages (from requests>=2.23.0->-r yolov9/requirements.txt (line 13)) (2023.7.22)\n",
      "Requirement already satisfied: filelock in c:\\users\\newad\\anaconda3\\lib\\site-packages (from torch>=1.7.0->-r yolov9/requirements.txt (line 16)) (3.13.1)\n",
      "Requirement already satisfied: typing-extensions>=4.8.0 in c:\\users\\newad\\anaconda3\\lib\\site-packages (from torch>=1.7.0->-r yolov9/requirements.txt (line 16)) (4.9.0)\n",
      "Requirement already satisfied: sympy in c:\\users\\newad\\anaconda3\\lib\\site-packages (from torch>=1.7.0->-r yolov9/requirements.txt (line 16)) (1.12)\n",
      "Requirement already satisfied: networkx in c:\\users\\newad\\anaconda3\\lib\\site-packages (from torch>=1.7.0->-r yolov9/requirements.txt (line 16)) (3.1)\n",
      "Requirement already satisfied: jinja2 in c:\\users\\newad\\anaconda3\\lib\\site-packages (from torch>=1.7.0->-r yolov9/requirements.txt (line 16)) (3.1.3)\n",
      "Requirement already satisfied: fsspec in c:\\users\\newad\\anaconda3\\lib\\site-packages (from torch>=1.7.0->-r yolov9/requirements.txt (line 16)) (2023.10.0)\n",
      "Requirement already satisfied: absl-py>=0.4 in c:\\users\\newad\\anaconda3\\lib\\site-packages (from tensorboard>=2.4.1->-r yolov9/requirements.txt (line 22)) (2.1.0)\n",
      "Requirement already satisfied: grpcio>=1.48.2 in c:\\users\\newad\\anaconda3\\lib\\site-packages (from tensorboard>=2.4.1->-r yolov9/requirements.txt (line 22)) (1.62.1)\n",
      "Requirement already satisfied: markdown>=2.6.8 in c:\\users\\newad\\anaconda3\\lib\\site-packages (from tensorboard>=2.4.1->-r yolov9/requirements.txt (line 22)) (3.4.1)\n",
      "Requirement already satisfied: protobuf!=4.24.0,>=3.19.6 in c:\\users\\newad\\anaconda3\\lib\\site-packages (from tensorboard>=2.4.1->-r yolov9/requirements.txt (line 22)) (3.20.3)\n",
      "Requirement already satisfied: setuptools>=41.0.0 in c:\\users\\newad\\anaconda3\\lib\\site-packages (from tensorboard>=2.4.1->-r yolov9/requirements.txt (line 22)) (68.2.2)\n",
      "Requirement already satisfied: six>1.9 in c:\\users\\newad\\anaconda3\\lib\\site-packages (from tensorboard>=2.4.1->-r yolov9/requirements.txt (line 22)) (1.16.0)\n",
      "Requirement already satisfied: tensorboard-data-server<0.8.0,>=0.7.0 in c:\\users\\newad\\anaconda3\\lib\\site-packages (from tensorboard>=2.4.1->-r yolov9/requirements.txt (line 22)) (0.7.2)\n",
      "Requirement already satisfied: werkzeug>=1.0.1 in c:\\users\\newad\\anaconda3\\lib\\site-packages (from tensorboard>=2.4.1->-r yolov9/requirements.txt (line 22)) (2.2.3)\n",
      "Requirement already satisfied: pytz>=2020.1 in c:\\users\\newad\\anaconda3\\lib\\site-packages (from pandas>=1.1.4->-r yolov9/requirements.txt (line 27)) (2023.3.post1)\n",
      "Requirement already satisfied: tzdata>=2022.1 in c:\\users\\newad\\anaconda3\\lib\\site-packages (from pandas>=1.1.4->-r yolov9/requirements.txt (line 27)) (2023.3)\n",
      "Requirement already satisfied: scikit-image>=0.21.0 in c:\\users\\newad\\anaconda3\\lib\\site-packages (from albumentations>=1.0.3->-r yolov9/requirements.txt (line 46)) (0.22.0)\n",
      "Requirement already satisfied: scikit-learn>=1.3.2 in c:\\users\\newad\\anaconda3\\lib\\site-packages (from albumentations>=1.0.3->-r yolov9/requirements.txt (line 46)) (1.4.1.post1)\n",
      "Requirement already satisfied: opencv-python-headless>=4.9.0 in c:\\users\\newad\\anaconda3\\lib\\site-packages (from albumentations>=1.0.3->-r yolov9/requirements.txt (line 46)) (4.9.0.80)\n",
      "Requirement already satisfied: smmap<5,>=3.0.1 in c:\\users\\newad\\anaconda3\\lib\\site-packages (from gitdb<5,>=4.0.1->gitpython->-r yolov9/requirements.txt (line 5)) (4.0.0)\n",
      "Requirement already satisfied: parso<0.9.0,>=0.8.0 in c:\\users\\newad\\anaconda3\\lib\\site-packages (from jedi>=0.16->ipython->-r yolov9/requirements.txt (line 6)) (0.8.3)\n",
      "Requirement already satisfied: wcwidth in c:\\users\\newad\\anaconda3\\lib\\site-packages (from prompt-toolkit<3.1.0,>=3.0.41->ipython->-r yolov9/requirements.txt (line 6)) (0.2.5)\n",
      "Requirement already satisfied: imageio>=2.27 in c:\\users\\newad\\anaconda3\\lib\\site-packages (from scikit-image>=0.21.0->albumentations>=1.0.3->-r yolov9/requirements.txt (line 46)) (2.33.1)\n",
      "Requirement already satisfied: tifffile>=2022.8.12 in c:\\users\\newad\\anaconda3\\lib\\site-packages (from scikit-image>=0.21.0->albumentations>=1.0.3->-r yolov9/requirements.txt (line 46)) (2023.4.12)\n",
      "Requirement already satisfied: lazy_loader>=0.3 in c:\\users\\newad\\anaconda3\\lib\\site-packages (from scikit-image>=0.21.0->albumentations>=1.0.3->-r yolov9/requirements.txt (line 46)) (0.3)\n",
      "Requirement already satisfied: joblib>=1.2.0 in c:\\users\\newad\\anaconda3\\lib\\site-packages (from scikit-learn>=1.3.2->albumentations>=1.0.3->-r yolov9/requirements.txt (line 46)) (1.2.0)\n",
      "Requirement already satisfied: threadpoolctl>=2.0.0 in c:\\users\\newad\\anaconda3\\lib\\site-packages (from scikit-learn>=1.3.2->albumentations>=1.0.3->-r yolov9/requirements.txt (line 46)) (2.2.0)\n",
      "Requirement already satisfied: MarkupSafe>=2.1.1 in c:\\users\\newad\\anaconda3\\lib\\site-packages (from werkzeug>=1.0.1->tensorboard>=2.4.1->-r yolov9/requirements.txt (line 22)) (2.1.3)\n",
      "Requirement already satisfied: executing in c:\\users\\newad\\anaconda3\\lib\\site-packages (from stack-data->ipython->-r yolov9/requirements.txt (line 6)) (0.8.3)\n",
      "Requirement already satisfied: asttokens in c:\\users\\newad\\anaconda3\\lib\\site-packages (from stack-data->ipython->-r yolov9/requirements.txt (line 6)) (2.0.5)\n",
      "Requirement already satisfied: pure-eval in c:\\users\\newad\\anaconda3\\lib\\site-packages (from stack-data->ipython->-r yolov9/requirements.txt (line 6)) (0.2.2)\n",
      "Requirement already satisfied: mpmath>=0.19 in c:\\users\\newad\\anaconda3\\lib\\site-packages (from sympy->torch>=1.7.0->-r yolov9/requirements.txt (line 16)) (1.3.0)\n"
     ]
    }
   ],
   "source": [
    "!git clone https://github.com/SkalskiP/yolov9.git\n",
    "!pip install -r yolov9/requirements.txt"
   ],
   "metadata": {
    "collapsed": false,
    "ExecuteTime": {
     "end_time": "2024-03-29T04:26:04.944142Z",
     "start_time": "2024-03-29T04:25:58.428972Z"
    }
   },
   "id": "f308c74dc9cfd4fc",
   "execution_count": 59
  },
  {
   "cell_type": "code",
   "outputs": [
    {
     "name": "stderr",
     "output_type": "stream",
     "text": [
      "Downloading: \"https://github.com/SkalskiP/yolov9/zipball/main\" to C:\\Users\\newad/.cache\\torch\\hub\\main.zip\n",
      "YOLOv5  2024-3-29 Python-3.11.7 torch-2.2.2+cu121 CUDA:0 (NVIDIA GeForce RTX 4070, 12282MiB)\n",
      "\n"
     ]
    },
    {
     "name": "stdout",
     "output_type": "stream",
     "text": [
      "\u001B[31m\u001B[1mrequirements:\u001B[0m C:\\Users\\newad\\anaconda3\\Lib\\site-packages\\requirements.txt not found, check failed.\n"
     ]
    },
    {
     "ename": "Exception",
     "evalue": "Can't get attribute 'Silence' on <module 'models.common' from 'C:\\\\Users\\\\newad/.cache\\\\torch\\\\hub\\\\ultralytics_yolov5_master\\\\models\\\\common.py'>. Cache may be out of date, try `force_reload=True` or see https://github.com/ultralytics/yolov5/issues/36 for help.",
     "output_type": "error",
     "traceback": [
      "\u001B[1;31m---------------------------------------------------------------------------\u001B[0m",
      "\u001B[1;31mAttributeError\u001B[0m                            Traceback (most recent call last)",
      "File \u001B[1;32m~/.cache\\torch\\hub\\SkalskiP_yolov9_main\\hubconf.py:37\u001B[0m, in \u001B[0;36m_create\u001B[1;34m(name, pretrained, channels, classes, autoshape, verbose, device)\u001B[0m\n\u001B[0;32m     36\u001B[0m \u001B[38;5;28;01mtry\u001B[39;00m:\n\u001B[1;32m---> 37\u001B[0m     model \u001B[38;5;241m=\u001B[39m DetectMultiBackend(path, device\u001B[38;5;241m=\u001B[39mdevice, fuse\u001B[38;5;241m=\u001B[39mautoshape)  \u001B[38;5;66;03m# detection model\u001B[39;00m\n\u001B[0;32m     38\u001B[0m     \u001B[38;5;28;01mif\u001B[39;00m autoshape:\n",
      "File \u001B[1;32m~/.cache\\torch\\hub\\ultralytics_yolov5_master\\models\\common.py:467\u001B[0m, in \u001B[0;36mDetectMultiBackend.__init__\u001B[1;34m(self, weights, device, dnn, data, fp16, fuse)\u001B[0m\n\u001B[0;32m    466\u001B[0m \u001B[38;5;28;01mif\u001B[39;00m pt:  \u001B[38;5;66;03m# PyTorch\u001B[39;00m\n\u001B[1;32m--> 467\u001B[0m     model \u001B[38;5;241m=\u001B[39m attempt_load(weights \u001B[38;5;28;01mif\u001B[39;00m \u001B[38;5;28misinstance\u001B[39m(weights, \u001B[38;5;28mlist\u001B[39m) \u001B[38;5;28;01melse\u001B[39;00m w, device\u001B[38;5;241m=\u001B[39mdevice, inplace\u001B[38;5;241m=\u001B[39m\u001B[38;5;28;01mTrue\u001B[39;00m, fuse\u001B[38;5;241m=\u001B[39mfuse)\n\u001B[0;32m    468\u001B[0m     stride \u001B[38;5;241m=\u001B[39m \u001B[38;5;28mmax\u001B[39m(\u001B[38;5;28mint\u001B[39m(model\u001B[38;5;241m.\u001B[39mstride\u001B[38;5;241m.\u001B[39mmax()), \u001B[38;5;241m32\u001B[39m)  \u001B[38;5;66;03m# model stride\u001B[39;00m\n",
      "File \u001B[1;32m~/.cache\\torch\\hub\\ultralytics_yolov5_master\\models\\experimental.py:98\u001B[0m, in \u001B[0;36mattempt_load\u001B[1;34m(weights, device, inplace, fuse)\u001B[0m\n\u001B[0;32m     97\u001B[0m \u001B[38;5;28;01mfor\u001B[39;00m w \u001B[38;5;129;01min\u001B[39;00m weights \u001B[38;5;28;01mif\u001B[39;00m \u001B[38;5;28misinstance\u001B[39m(weights, \u001B[38;5;28mlist\u001B[39m) \u001B[38;5;28;01melse\u001B[39;00m [weights]:\n\u001B[1;32m---> 98\u001B[0m     ckpt \u001B[38;5;241m=\u001B[39m torch\u001B[38;5;241m.\u001B[39mload(attempt_download(w), map_location\u001B[38;5;241m=\u001B[39m\u001B[38;5;124m\"\u001B[39m\u001B[38;5;124mcpu\u001B[39m\u001B[38;5;124m\"\u001B[39m)  \u001B[38;5;66;03m# load\u001B[39;00m\n\u001B[0;32m     99\u001B[0m     ckpt \u001B[38;5;241m=\u001B[39m (ckpt\u001B[38;5;241m.\u001B[39mget(\u001B[38;5;124m\"\u001B[39m\u001B[38;5;124mema\u001B[39m\u001B[38;5;124m\"\u001B[39m) \u001B[38;5;129;01mor\u001B[39;00m ckpt[\u001B[38;5;124m\"\u001B[39m\u001B[38;5;124mmodel\u001B[39m\u001B[38;5;124m\"\u001B[39m])\u001B[38;5;241m.\u001B[39mto(device)\u001B[38;5;241m.\u001B[39mfloat()  \u001B[38;5;66;03m# FP32 model\u001B[39;00m\n",
      "File \u001B[1;32m~\\anaconda3\\Lib\\site-packages\\torch\\serialization.py:1026\u001B[0m, in \u001B[0;36mload\u001B[1;34m(f, map_location, pickle_module, weights_only, mmap, **pickle_load_args)\u001B[0m\n\u001B[0;32m   1025\u001B[0m                 \u001B[38;5;28;01mraise\u001B[39;00m pickle\u001B[38;5;241m.\u001B[39mUnpicklingError(UNSAFE_MESSAGE \u001B[38;5;241m+\u001B[39m \u001B[38;5;28mstr\u001B[39m(e)) \u001B[38;5;28;01mfrom\u001B[39;00m \u001B[38;5;28;01mNone\u001B[39;00m\n\u001B[1;32m-> 1026\u001B[0m         \u001B[38;5;28;01mreturn\u001B[39;00m _load(opened_zipfile,\n\u001B[0;32m   1027\u001B[0m                      map_location,\n\u001B[0;32m   1028\u001B[0m                      pickle_module,\n\u001B[0;32m   1029\u001B[0m                      overall_storage\u001B[38;5;241m=\u001B[39moverall_storage,\n\u001B[0;32m   1030\u001B[0m                      \u001B[38;5;241m*\u001B[39m\u001B[38;5;241m*\u001B[39mpickle_load_args)\n\u001B[0;32m   1031\u001B[0m \u001B[38;5;28;01mif\u001B[39;00m mmap:\n",
      "File \u001B[1;32m~\\anaconda3\\Lib\\site-packages\\torch\\serialization.py:1438\u001B[0m, in \u001B[0;36m_load\u001B[1;34m(zip_file, map_location, pickle_module, pickle_file, overall_storage, **pickle_load_args)\u001B[0m\n\u001B[0;32m   1437\u001B[0m unpickler\u001B[38;5;241m.\u001B[39mpersistent_load \u001B[38;5;241m=\u001B[39m persistent_load\n\u001B[1;32m-> 1438\u001B[0m result \u001B[38;5;241m=\u001B[39m unpickler\u001B[38;5;241m.\u001B[39mload()\n\u001B[0;32m   1440\u001B[0m torch\u001B[38;5;241m.\u001B[39m_utils\u001B[38;5;241m.\u001B[39m_validate_loaded_sparse_tensors()\n",
      "File \u001B[1;32m~\\anaconda3\\Lib\\site-packages\\torch\\serialization.py:1431\u001B[0m, in \u001B[0;36m_load.<locals>.UnpicklerWrapper.find_class\u001B[1;34m(self, mod_name, name)\u001B[0m\n\u001B[0;32m   1430\u001B[0m mod_name \u001B[38;5;241m=\u001B[39m load_module_mapping\u001B[38;5;241m.\u001B[39mget(mod_name, mod_name)\n\u001B[1;32m-> 1431\u001B[0m \u001B[38;5;28;01mreturn\u001B[39;00m \u001B[38;5;28msuper\u001B[39m()\u001B[38;5;241m.\u001B[39mfind_class(mod_name, name)\n",
      "\u001B[1;31mAttributeError\u001B[0m: Can't get attribute 'Silence' on <module 'models.common' from 'C:\\\\Users\\\\newad/.cache\\\\torch\\\\hub\\\\ultralytics_yolov5_master\\\\models\\\\common.py'>",
      "\nDuring handling of the above exception, another exception occurred:\n",
      "\u001B[1;31mAttributeError\u001B[0m                            Traceback (most recent call last)",
      "File \u001B[1;32m~/.cache\\torch\\hub\\SkalskiP_yolov9_main\\hubconf.py:48\u001B[0m, in \u001B[0;36m_create\u001B[1;34m(name, pretrained, channels, classes, autoshape, verbose, device)\u001B[0m\n\u001B[0;32m     47\u001B[0m     \u001B[38;5;28;01mexcept\u001B[39;00m \u001B[38;5;167;01mException\u001B[39;00m:\n\u001B[1;32m---> 48\u001B[0m         model \u001B[38;5;241m=\u001B[39m attempt_load(path, device\u001B[38;5;241m=\u001B[39mdevice, fuse\u001B[38;5;241m=\u001B[39m\u001B[38;5;28;01mFalse\u001B[39;00m)  \u001B[38;5;66;03m# arbitrary model\u001B[39;00m\n\u001B[0;32m     49\u001B[0m \u001B[38;5;28;01melse\u001B[39;00m:\n",
      "File \u001B[1;32m~/.cache\\torch\\hub\\ultralytics_yolov5_master\\models\\experimental.py:98\u001B[0m, in \u001B[0;36mattempt_load\u001B[1;34m(weights, device, inplace, fuse)\u001B[0m\n\u001B[0;32m     97\u001B[0m \u001B[38;5;28;01mfor\u001B[39;00m w \u001B[38;5;129;01min\u001B[39;00m weights \u001B[38;5;28;01mif\u001B[39;00m \u001B[38;5;28misinstance\u001B[39m(weights, \u001B[38;5;28mlist\u001B[39m) \u001B[38;5;28;01melse\u001B[39;00m [weights]:\n\u001B[1;32m---> 98\u001B[0m     ckpt \u001B[38;5;241m=\u001B[39m torch\u001B[38;5;241m.\u001B[39mload(attempt_download(w), map_location\u001B[38;5;241m=\u001B[39m\u001B[38;5;124m\"\u001B[39m\u001B[38;5;124mcpu\u001B[39m\u001B[38;5;124m\"\u001B[39m)  \u001B[38;5;66;03m# load\u001B[39;00m\n\u001B[0;32m     99\u001B[0m     ckpt \u001B[38;5;241m=\u001B[39m (ckpt\u001B[38;5;241m.\u001B[39mget(\u001B[38;5;124m\"\u001B[39m\u001B[38;5;124mema\u001B[39m\u001B[38;5;124m\"\u001B[39m) \u001B[38;5;129;01mor\u001B[39;00m ckpt[\u001B[38;5;124m\"\u001B[39m\u001B[38;5;124mmodel\u001B[39m\u001B[38;5;124m\"\u001B[39m])\u001B[38;5;241m.\u001B[39mto(device)\u001B[38;5;241m.\u001B[39mfloat()  \u001B[38;5;66;03m# FP32 model\u001B[39;00m\n",
      "File \u001B[1;32m~\\anaconda3\\Lib\\site-packages\\torch\\serialization.py:1026\u001B[0m, in \u001B[0;36mload\u001B[1;34m(f, map_location, pickle_module, weights_only, mmap, **pickle_load_args)\u001B[0m\n\u001B[0;32m   1025\u001B[0m                 \u001B[38;5;28;01mraise\u001B[39;00m pickle\u001B[38;5;241m.\u001B[39mUnpicklingError(UNSAFE_MESSAGE \u001B[38;5;241m+\u001B[39m \u001B[38;5;28mstr\u001B[39m(e)) \u001B[38;5;28;01mfrom\u001B[39;00m \u001B[38;5;28;01mNone\u001B[39;00m\n\u001B[1;32m-> 1026\u001B[0m         \u001B[38;5;28;01mreturn\u001B[39;00m _load(opened_zipfile,\n\u001B[0;32m   1027\u001B[0m                      map_location,\n\u001B[0;32m   1028\u001B[0m                      pickle_module,\n\u001B[0;32m   1029\u001B[0m                      overall_storage\u001B[38;5;241m=\u001B[39moverall_storage,\n\u001B[0;32m   1030\u001B[0m                      \u001B[38;5;241m*\u001B[39m\u001B[38;5;241m*\u001B[39mpickle_load_args)\n\u001B[0;32m   1031\u001B[0m \u001B[38;5;28;01mif\u001B[39;00m mmap:\n",
      "File \u001B[1;32m~\\anaconda3\\Lib\\site-packages\\torch\\serialization.py:1438\u001B[0m, in \u001B[0;36m_load\u001B[1;34m(zip_file, map_location, pickle_module, pickle_file, overall_storage, **pickle_load_args)\u001B[0m\n\u001B[0;32m   1437\u001B[0m unpickler\u001B[38;5;241m.\u001B[39mpersistent_load \u001B[38;5;241m=\u001B[39m persistent_load\n\u001B[1;32m-> 1438\u001B[0m result \u001B[38;5;241m=\u001B[39m unpickler\u001B[38;5;241m.\u001B[39mload()\n\u001B[0;32m   1440\u001B[0m torch\u001B[38;5;241m.\u001B[39m_utils\u001B[38;5;241m.\u001B[39m_validate_loaded_sparse_tensors()\n",
      "File \u001B[1;32m~\\anaconda3\\Lib\\site-packages\\torch\\serialization.py:1431\u001B[0m, in \u001B[0;36m_load.<locals>.UnpicklerWrapper.find_class\u001B[1;34m(self, mod_name, name)\u001B[0m\n\u001B[0;32m   1430\u001B[0m mod_name \u001B[38;5;241m=\u001B[39m load_module_mapping\u001B[38;5;241m.\u001B[39mget(mod_name, mod_name)\n\u001B[1;32m-> 1431\u001B[0m \u001B[38;5;28;01mreturn\u001B[39;00m \u001B[38;5;28msuper\u001B[39m()\u001B[38;5;241m.\u001B[39mfind_class(mod_name, name)\n",
      "\u001B[1;31mAttributeError\u001B[0m: Can't get attribute 'Silence' on <module 'models.common' from 'C:\\\\Users\\\\newad/.cache\\\\torch\\\\hub\\\\ultralytics_yolov5_master\\\\models\\\\common.py'>",
      "\nThe above exception was the direct cause of the following exception:\n",
      "\u001B[1;31mException\u001B[0m                                 Traceback (most recent call last)",
      "Cell \u001B[1;32mIn[58], line 1\u001B[0m\n\u001B[1;32m----> 1\u001B[0m model \u001B[38;5;241m=\u001B[39m torch\u001B[38;5;241m.\u001B[39mhub\u001B[38;5;241m.\u001B[39mload(\u001B[38;5;124m'\u001B[39m\u001B[38;5;124mSkalskiP/yolov9\u001B[39m\u001B[38;5;124m'\u001B[39m, \u001B[38;5;124m'\u001B[39m\u001B[38;5;124mcustom\u001B[39m\u001B[38;5;124m'\u001B[39m, path\u001B[38;5;241m=\u001B[39m\u001B[38;5;124m'\u001B[39m\u001B[38;5;124myolov5/yolov9_1ep.pt\u001B[39m\u001B[38;5;124m'\u001B[39m, force_reload\u001B[38;5;241m=\u001B[39m\u001B[38;5;28;01mTrue\u001B[39;00m, )\n",
      "File \u001B[1;32m~\\anaconda3\\Lib\\site-packages\\torch\\hub.py:566\u001B[0m, in \u001B[0;36mload\u001B[1;34m(repo_or_dir, model, source, trust_repo, force_reload, verbose, skip_validation, *args, **kwargs)\u001B[0m\n\u001B[0;32m    562\u001B[0m \u001B[38;5;28;01mif\u001B[39;00m source \u001B[38;5;241m==\u001B[39m \u001B[38;5;124m'\u001B[39m\u001B[38;5;124mgithub\u001B[39m\u001B[38;5;124m'\u001B[39m:\n\u001B[0;32m    563\u001B[0m     repo_or_dir \u001B[38;5;241m=\u001B[39m _get_cache_or_reload(repo_or_dir, force_reload, trust_repo, \u001B[38;5;124m\"\u001B[39m\u001B[38;5;124mload\u001B[39m\u001B[38;5;124m\"\u001B[39m,\n\u001B[0;32m    564\u001B[0m                                        verbose\u001B[38;5;241m=\u001B[39mverbose, skip_validation\u001B[38;5;241m=\u001B[39mskip_validation)\n\u001B[1;32m--> 566\u001B[0m model \u001B[38;5;241m=\u001B[39m _load_local(repo_or_dir, model, \u001B[38;5;241m*\u001B[39margs, \u001B[38;5;241m*\u001B[39m\u001B[38;5;241m*\u001B[39mkwargs)\n\u001B[0;32m    567\u001B[0m \u001B[38;5;28;01mreturn\u001B[39;00m model\n",
      "File \u001B[1;32m~\\anaconda3\\Lib\\site-packages\\torch\\hub.py:595\u001B[0m, in \u001B[0;36m_load_local\u001B[1;34m(hubconf_dir, model, *args, **kwargs)\u001B[0m\n\u001B[0;32m    592\u001B[0m     hub_module \u001B[38;5;241m=\u001B[39m _import_module(MODULE_HUBCONF, hubconf_path)\n\u001B[0;32m    594\u001B[0m     entry \u001B[38;5;241m=\u001B[39m _load_entry_from_hubconf(hub_module, model)\n\u001B[1;32m--> 595\u001B[0m     model \u001B[38;5;241m=\u001B[39m entry(\u001B[38;5;241m*\u001B[39margs, \u001B[38;5;241m*\u001B[39m\u001B[38;5;241m*\u001B[39mkwargs)\n\u001B[0;32m    597\u001B[0m \u001B[38;5;28;01mreturn\u001B[39;00m model\n",
      "File \u001B[1;32m~/.cache\\torch\\hub\\SkalskiP_yolov9_main\\hubconf.py:71\u001B[0m, in \u001B[0;36mcustom\u001B[1;34m(path, autoshape, _verbose, device)\u001B[0m\n\u001B[0;32m     69\u001B[0m \u001B[38;5;28;01mdef\u001B[39;00m \u001B[38;5;21mcustom\u001B[39m(path\u001B[38;5;241m=\u001B[39m\u001B[38;5;124m'\u001B[39m\u001B[38;5;124mpath/to/model.pt\u001B[39m\u001B[38;5;124m'\u001B[39m, autoshape\u001B[38;5;241m=\u001B[39m\u001B[38;5;28;01mTrue\u001B[39;00m, _verbose\u001B[38;5;241m=\u001B[39m\u001B[38;5;28;01mTrue\u001B[39;00m, device\u001B[38;5;241m=\u001B[39m\u001B[38;5;28;01mNone\u001B[39;00m):\n\u001B[0;32m     70\u001B[0m     \u001B[38;5;66;03m# YOLO custom or local model\u001B[39;00m\n\u001B[1;32m---> 71\u001B[0m     \u001B[38;5;28;01mreturn\u001B[39;00m _create(path, autoshape\u001B[38;5;241m=\u001B[39mautoshape, verbose\u001B[38;5;241m=\u001B[39m_verbose, device\u001B[38;5;241m=\u001B[39mdevice)\n",
      "File \u001B[1;32m~/.cache\\torch\\hub\\SkalskiP_yolov9_main\\hubconf.py:66\u001B[0m, in \u001B[0;36m_create\u001B[1;34m(name, pretrained, channels, classes, autoshape, verbose, device)\u001B[0m\n\u001B[0;32m     64\u001B[0m help_url \u001B[38;5;241m=\u001B[39m \u001B[38;5;124m'\u001B[39m\u001B[38;5;124mhttps://github.com/ultralytics/yolov5/issues/36\u001B[39m\u001B[38;5;124m'\u001B[39m\n\u001B[0;32m     65\u001B[0m s \u001B[38;5;241m=\u001B[39m \u001B[38;5;124mf\u001B[39m\u001B[38;5;124m'\u001B[39m\u001B[38;5;132;01m{\u001B[39;00me\u001B[38;5;132;01m}\u001B[39;00m\u001B[38;5;124m. Cache may be out of date, try `force_reload=True` or see \u001B[39m\u001B[38;5;132;01m{\u001B[39;00mhelp_url\u001B[38;5;132;01m}\u001B[39;00m\u001B[38;5;124m for help.\u001B[39m\u001B[38;5;124m'\u001B[39m\n\u001B[1;32m---> 66\u001B[0m \u001B[38;5;28;01mraise\u001B[39;00m \u001B[38;5;167;01mException\u001B[39;00m(s) \u001B[38;5;28;01mfrom\u001B[39;00m \u001B[38;5;21;01me\u001B[39;00m\n",
      "\u001B[1;31mException\u001B[0m: Can't get attribute 'Silence' on <module 'models.common' from 'C:\\\\Users\\\\newad/.cache\\\\torch\\\\hub\\\\ultralytics_yolov5_master\\\\models\\\\common.py'>. Cache may be out of date, try `force_reload=True` or see https://github.com/ultralytics/yolov5/issues/36 for help."
     ]
    }
   ],
   "source": [
    "model = torch.hub.load('SkalskiP/yolov9', 'custom', path='yolov5/yolov9_1ep.pt', force_reload=True, )"
   ],
   "metadata": {
    "collapsed": false,
    "ExecuteTime": {
     "end_time": "2024-03-29T04:25:48.101050Z",
     "start_time": "2024-03-29T04:25:44.568680Z"
    }
   },
   "id": "af06994f4391463c",
   "execution_count": 58
  },
  {
   "cell_type": "code",
   "outputs": [],
   "source": [
    "    import numpy as np"
   ],
   "metadata": {
    "collapsed": false,
    "ExecuteTime": {
     "end_time": "2024-03-29T03:06:22.443758Z",
     "start_time": "2024-03-29T03:06:22.441114Z"
    }
   },
   "id": "b0982aba6de41650",
   "execution_count": 46
  },
  {
   "cell_type": "code",
   "outputs": [
    {
     "ename": "AttributeError",
     "evalue": "'NoneType' object has no attribute 'shape'",
     "output_type": "error",
     "traceback": [
      "\u001B[1;31m---------------------------------------------------------------------------\u001B[0m",
      "\u001B[1;31mAttributeError\u001B[0m                            Traceback (most recent call last)",
      "Cell \u001B[1;32mIn[47], line 9\u001B[0m\n\u001B[0;32m      6\u001B[0m \u001B[38;5;28;01mwhile\u001B[39;00m cap\u001B[38;5;241m.\u001B[39misOpened():\n\u001B[0;32m      7\u001B[0m     ret, frame \u001B[38;5;241m=\u001B[39m cap\u001B[38;5;241m.\u001B[39mread()\n\u001B[1;32m----> 9\u001B[0m     results \u001B[38;5;241m=\u001B[39m model(frame)\n\u001B[0;32m     11\u001B[0m     cv2\u001B[38;5;241m.\u001B[39mimshow(\u001B[38;5;124m'\u001B[39m\u001B[38;5;124mYOLO\u001B[39m\u001B[38;5;124m'\u001B[39m, np\u001B[38;5;241m.\u001B[39msqueeze(results\u001B[38;5;241m.\u001B[39mrender()))\n\u001B[0;32m     13\u001B[0m     \u001B[38;5;28;01mif\u001B[39;00m cv2\u001B[38;5;241m.\u001B[39mwaitKey(\u001B[38;5;241m10\u001B[39m) \u001B[38;5;241m&\u001B[39m \u001B[38;5;241m0xFF\u001B[39m \u001B[38;5;241m==\u001B[39m \u001B[38;5;28mord\u001B[39m(\u001B[38;5;124m'\u001B[39m\u001B[38;5;124mq\u001B[39m\u001B[38;5;124m'\u001B[39m):\n",
      "File \u001B[1;32m~\\anaconda3\\Lib\\site-packages\\torch\\nn\\modules\\module.py:1511\u001B[0m, in \u001B[0;36mModule._wrapped_call_impl\u001B[1;34m(self, *args, **kwargs)\u001B[0m\n\u001B[0;32m   1509\u001B[0m     \u001B[38;5;28;01mreturn\u001B[39;00m \u001B[38;5;28mself\u001B[39m\u001B[38;5;241m.\u001B[39m_compiled_call_impl(\u001B[38;5;241m*\u001B[39margs, \u001B[38;5;241m*\u001B[39m\u001B[38;5;241m*\u001B[39mkwargs)  \u001B[38;5;66;03m# type: ignore[misc]\u001B[39;00m\n\u001B[0;32m   1510\u001B[0m \u001B[38;5;28;01melse\u001B[39;00m:\n\u001B[1;32m-> 1511\u001B[0m     \u001B[38;5;28;01mreturn\u001B[39;00m \u001B[38;5;28mself\u001B[39m\u001B[38;5;241m.\u001B[39m_call_impl(\u001B[38;5;241m*\u001B[39margs, \u001B[38;5;241m*\u001B[39m\u001B[38;5;241m*\u001B[39mkwargs)\n",
      "File \u001B[1;32m~\\anaconda3\\Lib\\site-packages\\torch\\nn\\modules\\module.py:1520\u001B[0m, in \u001B[0;36mModule._call_impl\u001B[1;34m(self, *args, **kwargs)\u001B[0m\n\u001B[0;32m   1515\u001B[0m \u001B[38;5;66;03m# If we don't have any hooks, we want to skip the rest of the logic in\u001B[39;00m\n\u001B[0;32m   1516\u001B[0m \u001B[38;5;66;03m# this function, and just call forward.\u001B[39;00m\n\u001B[0;32m   1517\u001B[0m \u001B[38;5;28;01mif\u001B[39;00m \u001B[38;5;129;01mnot\u001B[39;00m (\u001B[38;5;28mself\u001B[39m\u001B[38;5;241m.\u001B[39m_backward_hooks \u001B[38;5;129;01mor\u001B[39;00m \u001B[38;5;28mself\u001B[39m\u001B[38;5;241m.\u001B[39m_backward_pre_hooks \u001B[38;5;129;01mor\u001B[39;00m \u001B[38;5;28mself\u001B[39m\u001B[38;5;241m.\u001B[39m_forward_hooks \u001B[38;5;129;01mor\u001B[39;00m \u001B[38;5;28mself\u001B[39m\u001B[38;5;241m.\u001B[39m_forward_pre_hooks\n\u001B[0;32m   1518\u001B[0m         \u001B[38;5;129;01mor\u001B[39;00m _global_backward_pre_hooks \u001B[38;5;129;01mor\u001B[39;00m _global_backward_hooks\n\u001B[0;32m   1519\u001B[0m         \u001B[38;5;129;01mor\u001B[39;00m _global_forward_hooks \u001B[38;5;129;01mor\u001B[39;00m _global_forward_pre_hooks):\n\u001B[1;32m-> 1520\u001B[0m     \u001B[38;5;28;01mreturn\u001B[39;00m forward_call(\u001B[38;5;241m*\u001B[39margs, \u001B[38;5;241m*\u001B[39m\u001B[38;5;241m*\u001B[39mkwargs)\n\u001B[0;32m   1522\u001B[0m \u001B[38;5;28;01mtry\u001B[39;00m:\n\u001B[0;32m   1523\u001B[0m     result \u001B[38;5;241m=\u001B[39m \u001B[38;5;28;01mNone\u001B[39;00m\n",
      "File \u001B[1;32m~\\anaconda3\\Lib\\site-packages\\torch\\utils\\_contextlib.py:115\u001B[0m, in \u001B[0;36mcontext_decorator.<locals>.decorate_context\u001B[1;34m(*args, **kwargs)\u001B[0m\n\u001B[0;32m    112\u001B[0m \u001B[38;5;129m@functools\u001B[39m\u001B[38;5;241m.\u001B[39mwraps(func)\n\u001B[0;32m    113\u001B[0m \u001B[38;5;28;01mdef\u001B[39;00m \u001B[38;5;21mdecorate_context\u001B[39m(\u001B[38;5;241m*\u001B[39margs, \u001B[38;5;241m*\u001B[39m\u001B[38;5;241m*\u001B[39mkwargs):\n\u001B[0;32m    114\u001B[0m     \u001B[38;5;28;01mwith\u001B[39;00m ctx_factory():\n\u001B[1;32m--> 115\u001B[0m         \u001B[38;5;28;01mreturn\u001B[39;00m func(\u001B[38;5;241m*\u001B[39margs, \u001B[38;5;241m*\u001B[39m\u001B[38;5;241m*\u001B[39mkwargs)\n",
      "File \u001B[1;32m~/.cache\\torch\\hub\\ultralytics_yolov5_master\\models\\common.py:840\u001B[0m, in \u001B[0;36mAutoShape.forward\u001B[1;34m(self, ims, size, augment, profile)\u001B[0m\n\u001B[0;32m    838\u001B[0m     im, f \u001B[38;5;241m=\u001B[39m np\u001B[38;5;241m.\u001B[39masarray(exif_transpose(im)), \u001B[38;5;28mgetattr\u001B[39m(im, \u001B[38;5;124m\"\u001B[39m\u001B[38;5;124mfilename\u001B[39m\u001B[38;5;124m\"\u001B[39m, f) \u001B[38;5;129;01mor\u001B[39;00m f\n\u001B[0;32m    839\u001B[0m files\u001B[38;5;241m.\u001B[39mappend(Path(f)\u001B[38;5;241m.\u001B[39mwith_suffix(\u001B[38;5;124m\"\u001B[39m\u001B[38;5;124m.jpg\u001B[39m\u001B[38;5;124m\"\u001B[39m)\u001B[38;5;241m.\u001B[39mname)\n\u001B[1;32m--> 840\u001B[0m \u001B[38;5;28;01mif\u001B[39;00m im\u001B[38;5;241m.\u001B[39mshape[\u001B[38;5;241m0\u001B[39m] \u001B[38;5;241m<\u001B[39m \u001B[38;5;241m5\u001B[39m:  \u001B[38;5;66;03m# image in CHW\u001B[39;00m\n\u001B[0;32m    841\u001B[0m     im \u001B[38;5;241m=\u001B[39m im\u001B[38;5;241m.\u001B[39mtranspose((\u001B[38;5;241m1\u001B[39m, \u001B[38;5;241m2\u001B[39m, \u001B[38;5;241m0\u001B[39m))  \u001B[38;5;66;03m# reverse dataloader .transpose(2, 0, 1)\u001B[39;00m\n\u001B[0;32m    842\u001B[0m im \u001B[38;5;241m=\u001B[39m im[\u001B[38;5;241m.\u001B[39m\u001B[38;5;241m.\u001B[39m\u001B[38;5;241m.\u001B[39m, :\u001B[38;5;241m3\u001B[39m] \u001B[38;5;28;01mif\u001B[39;00m im\u001B[38;5;241m.\u001B[39mndim \u001B[38;5;241m==\u001B[39m \u001B[38;5;241m3\u001B[39m \u001B[38;5;28;01melse\u001B[39;00m cv2\u001B[38;5;241m.\u001B[39mcvtColor(im, cv2\u001B[38;5;241m.\u001B[39mCOLOR_GRAY2BGR)  \u001B[38;5;66;03m# enforce 3ch input\u001B[39;00m\n",
      "\u001B[1;31mAttributeError\u001B[0m: 'NoneType' object has no attribute 'shape'"
     ]
    }
   ],
   "source": [
    "cap = cv2.VideoCapture(0)\n",
    "#cap.set(cv2.CAP_PROP_FRAME_WIDTH, 1920)\n",
    "#cap.set(cv2.CAP_PROP_FRAME_HEIGHT, 1080)\n",
    "#cap.set(cv2.CAP_PROP_FPS, 100)\n",
    "\n",
    "while cap.isOpened():\n",
    "    ret, frame = cap.read()\n",
    "\n",
    "    results = model(frame)\n",
    "\n",
    "    cv2.imshow('YOLO', np.squeeze(results.render()))\n",
    "\n",
    "    if cv2.waitKey(10) & 0xFF == ord('q'):\n",
    "        break\n",
    "cap.release()\n",
    "cv2.destroyAllWindows()"
   ],
   "metadata": {
    "collapsed": false,
    "ExecuteTime": {
     "end_time": "2024-03-29T03:06:23.202151Z",
     "start_time": "2024-03-29T03:06:22.684214Z"
    }
   },
   "id": "9c34006e9086f621",
   "execution_count": 47
  },
  {
   "cell_type": "code",
   "outputs": [
    {
     "name": "stderr",
     "output_type": "stream",
     "text": [
      "Cloning into 'yolov9'...\n"
     ]
    }
   ],
   "source": [
    "!git clone https://github.com/SkalskiP/yolov9.git"
   ],
   "metadata": {
    "collapsed": false,
    "ExecuteTime": {
     "end_time": "2024-03-29T02:21:02.605941Z",
     "start_time": "2024-03-29T02:20:25.986100Z"
    }
   },
   "id": "169becbc9789b24e",
   "execution_count": 5
  },
  {
   "cell_type": "code",
   "outputs": [
    {
     "name": "stdout",
     "output_type": "stream",
     "text": [
      "Requirement already satisfied: gitpython in c:\\users\\newad\\anaconda3\\lib\\site-packages (from -r requirements.txt (line 5)) (3.1.37)\n",
      "Requirement already satisfied: ipython in c:\\users\\newad\\anaconda3\\lib\\site-packages (from -r requirements.txt (line 6)) (8.20.0)\n",
      "Requirement already satisfied: matplotlib>=3.2.2 in c:\\users\\newad\\anaconda3\\lib\\site-packages (from -r requirements.txt (line 7)) (3.8.0)\n",
      "Requirement already satisfied: numpy>=1.18.5 in c:\\users\\newad\\anaconda3\\lib\\site-packages (from -r requirements.txt (line 8)) (1.26.4)\n",
      "Requirement already satisfied: opencv-python>=4.1.1 in c:\\users\\newad\\anaconda3\\lib\\site-packages (from -r requirements.txt (line 9)) (4.9.0.80)\n",
      "Requirement already satisfied: Pillow>=7.1.2 in c:\\users\\newad\\anaconda3\\lib\\site-packages (from -r requirements.txt (line 10)) (10.2.0)\n",
      "Requirement already satisfied: psutil in c:\\users\\newad\\anaconda3\\lib\\site-packages (from -r requirements.txt (line 11)) (5.9.0)\n",
      "Requirement already satisfied: PyYAML>=5.3.1 in c:\\users\\newad\\anaconda3\\lib\\site-packages (from -r requirements.txt (line 12)) (6.0.1)\n",
      "Requirement already satisfied: requests>=2.23.0 in c:\\users\\newad\\anaconda3\\lib\\site-packages (from -r requirements.txt (line 13)) (2.31.0)\n",
      "Requirement already satisfied: scipy>=1.4.1 in c:\\users\\newad\\anaconda3\\lib\\site-packages (from -r requirements.txt (line 14)) (1.11.4)\n",
      "Requirement already satisfied: thop>=0.1.1 in c:\\users\\newad\\anaconda3\\lib\\site-packages (from -r requirements.txt (line 15)) (0.1.1.post2209072238)\n",
      "Requirement already satisfied: torch>=1.7.0 in c:\\users\\newad\\anaconda3\\lib\\site-packages (from -r requirements.txt (line 16)) (2.2.2+cu121)\n",
      "Requirement already satisfied: torchvision>=0.8.1 in c:\\users\\newad\\anaconda3\\lib\\site-packages (from -r requirements.txt (line 17)) (0.17.2+cu121)\n",
      "Requirement already satisfied: tqdm>=4.64.0 in c:\\users\\newad\\anaconda3\\lib\\site-packages (from -r requirements.txt (line 18)) (4.65.0)\n",
      "Requirement already satisfied: tensorboard>=2.4.1 in c:\\users\\newad\\anaconda3\\lib\\site-packages (from -r requirements.txt (line 22)) (2.16.2)\n",
      "Requirement already satisfied: pandas>=1.1.4 in c:\\users\\newad\\anaconda3\\lib\\site-packages (from -r requirements.txt (line 27)) (2.1.4)\n",
      "Requirement already satisfied: seaborn>=0.11.0 in c:\\users\\newad\\anaconda3\\lib\\site-packages (from -r requirements.txt (line 28)) (0.13.2)\n",
      "Requirement already satisfied: albumentations>=1.0.3 in c:\\users\\newad\\anaconda3\\lib\\site-packages (from -r requirements.txt (line 46)) (1.4.2)\n",
      "Requirement already satisfied: pycocotools>=2.0 in c:\\users\\newad\\anaconda3\\lib\\site-packages (from -r requirements.txt (line 47)) (2.0.7)\n",
      "Requirement already satisfied: gitdb<5,>=4.0.1 in c:\\users\\newad\\anaconda3\\lib\\site-packages (from gitpython->-r requirements.txt (line 5)) (4.0.7)\n",
      "Requirement already satisfied: decorator in c:\\users\\newad\\anaconda3\\lib\\site-packages (from ipython->-r requirements.txt (line 6)) (5.1.1)\n",
      "Requirement already satisfied: jedi>=0.16 in c:\\users\\newad\\anaconda3\\lib\\site-packages (from ipython->-r requirements.txt (line 6)) (0.18.1)\n",
      "Requirement already satisfied: matplotlib-inline in c:\\users\\newad\\anaconda3\\lib\\site-packages (from ipython->-r requirements.txt (line 6)) (0.1.6)\n",
      "Requirement already satisfied: prompt-toolkit<3.1.0,>=3.0.41 in c:\\users\\newad\\anaconda3\\lib\\site-packages (from ipython->-r requirements.txt (line 6)) (3.0.43)\n",
      "Requirement already satisfied: pygments>=2.4.0 in c:\\users\\newad\\anaconda3\\lib\\site-packages (from ipython->-r requirements.txt (line 6)) (2.15.1)\n",
      "Requirement already satisfied: stack-data in c:\\users\\newad\\anaconda3\\lib\\site-packages (from ipython->-r requirements.txt (line 6)) (0.2.0)\n",
      "Requirement already satisfied: traitlets>=5 in c:\\users\\newad\\anaconda3\\lib\\site-packages (from ipython->-r requirements.txt (line 6)) (5.7.1)\n",
      "Requirement already satisfied: colorama in c:\\users\\newad\\anaconda3\\lib\\site-packages (from ipython->-r requirements.txt (line 6)) (0.4.6)\n",
      "Requirement already satisfied: contourpy>=1.0.1 in c:\\users\\newad\\anaconda3\\lib\\site-packages (from matplotlib>=3.2.2->-r requirements.txt (line 7)) (1.2.0)\n",
      "Requirement already satisfied: cycler>=0.10 in c:\\users\\newad\\anaconda3\\lib\\site-packages (from matplotlib>=3.2.2->-r requirements.txt (line 7)) (0.10.0)\n",
      "Requirement already satisfied: fonttools>=4.22.0 in c:\\users\\newad\\anaconda3\\lib\\site-packages (from matplotlib>=3.2.2->-r requirements.txt (line 7)) (4.25.0)\n",
      "Requirement already satisfied: kiwisolver>=1.0.1 in c:\\users\\newad\\anaconda3\\lib\\site-packages (from matplotlib>=3.2.2->-r requirements.txt (line 7)) (1.4.4)\n",
      "Requirement already satisfied: packaging>=20.0 in c:\\users\\newad\\anaconda3\\lib\\site-packages (from matplotlib>=3.2.2->-r requirements.txt (line 7)) (23.1)\n",
      "Requirement already satisfied: pyparsing>=2.3.1 in c:\\users\\newad\\anaconda3\\lib\\site-packages (from matplotlib>=3.2.2->-r requirements.txt (line 7)) (3.0.9)\n",
      "Requirement already satisfied: python-dateutil>=2.7 in c:\\users\\newad\\anaconda3\\lib\\site-packages (from matplotlib>=3.2.2->-r requirements.txt (line 7)) (2.8.2)\n",
      "Requirement already satisfied: charset-normalizer<4,>=2 in c:\\users\\newad\\anaconda3\\lib\\site-packages (from requests>=2.23.0->-r requirements.txt (line 13)) (2.0.4)\n",
      "Requirement already satisfied: idna<4,>=2.5 in c:\\users\\newad\\anaconda3\\lib\\site-packages (from requests>=2.23.0->-r requirements.txt (line 13)) (2.10)\n",
      "Requirement already satisfied: urllib3<3,>=1.21.1 in c:\\users\\newad\\anaconda3\\lib\\site-packages (from requests>=2.23.0->-r requirements.txt (line 13)) (2.0.7)\n",
      "Requirement already satisfied: certifi>=2017.4.17 in c:\\users\\newad\\anaconda3\\lib\\site-packages (from requests>=2.23.0->-r requirements.txt (line 13)) (2023.7.22)\n",
      "Requirement already satisfied: filelock in c:\\users\\newad\\anaconda3\\lib\\site-packages (from torch>=1.7.0->-r requirements.txt (line 16)) (3.13.1)\n",
      "Requirement already satisfied: typing-extensions>=4.8.0 in c:\\users\\newad\\anaconda3\\lib\\site-packages (from torch>=1.7.0->-r requirements.txt (line 16)) (4.9.0)\n",
      "Requirement already satisfied: sympy in c:\\users\\newad\\anaconda3\\lib\\site-packages (from torch>=1.7.0->-r requirements.txt (line 16)) (1.12)\n",
      "Requirement already satisfied: networkx in c:\\users\\newad\\anaconda3\\lib\\site-packages (from torch>=1.7.0->-r requirements.txt (line 16)) (3.1)\n",
      "Requirement already satisfied: jinja2 in c:\\users\\newad\\anaconda3\\lib\\site-packages (from torch>=1.7.0->-r requirements.txt (line 16)) (3.1.3)\n",
      "Requirement already satisfied: fsspec in c:\\users\\newad\\anaconda3\\lib\\site-packages (from torch>=1.7.0->-r requirements.txt (line 16)) (2023.10.0)\n",
      "Requirement already satisfied: absl-py>=0.4 in c:\\users\\newad\\anaconda3\\lib\\site-packages (from tensorboard>=2.4.1->-r requirements.txt (line 22)) (2.1.0)\n",
      "Requirement already satisfied: grpcio>=1.48.2 in c:\\users\\newad\\anaconda3\\lib\\site-packages (from tensorboard>=2.4.1->-r requirements.txt (line 22)) (1.62.1)\n",
      "Requirement already satisfied: markdown>=2.6.8 in c:\\users\\newad\\anaconda3\\lib\\site-packages (from tensorboard>=2.4.1->-r requirements.txt (line 22)) (3.4.1)\n",
      "Requirement already satisfied: protobuf!=4.24.0,>=3.19.6 in c:\\users\\newad\\anaconda3\\lib\\site-packages (from tensorboard>=2.4.1->-r requirements.txt (line 22)) (3.20.3)\n",
      "Requirement already satisfied: setuptools>=41.0.0 in c:\\users\\newad\\anaconda3\\lib\\site-packages (from tensorboard>=2.4.1->-r requirements.txt (line 22)) (68.2.2)\n",
      "Requirement already satisfied: six>1.9 in c:\\users\\newad\\anaconda3\\lib\\site-packages (from tensorboard>=2.4.1->-r requirements.txt (line 22)) (1.16.0)\n",
      "Requirement already satisfied: tensorboard-data-server<0.8.0,>=0.7.0 in c:\\users\\newad\\anaconda3\\lib\\site-packages (from tensorboard>=2.4.1->-r requirements.txt (line 22)) (0.7.2)\n",
      "Requirement already satisfied: werkzeug>=1.0.1 in c:\\users\\newad\\anaconda3\\lib\\site-packages (from tensorboard>=2.4.1->-r requirements.txt (line 22)) (2.2.3)\n",
      "Requirement already satisfied: pytz>=2020.1 in c:\\users\\newad\\anaconda3\\lib\\site-packages (from pandas>=1.1.4->-r requirements.txt (line 27)) (2023.3.post1)\n",
      "Requirement already satisfied: tzdata>=2022.1 in c:\\users\\newad\\anaconda3\\lib\\site-packages (from pandas>=1.1.4->-r requirements.txt (line 27)) (2023.3)\n",
      "Requirement already satisfied: scikit-image>=0.21.0 in c:\\users\\newad\\anaconda3\\lib\\site-packages (from albumentations>=1.0.3->-r requirements.txt (line 46)) (0.22.0)\n",
      "Requirement already satisfied: scikit-learn>=1.3.2 in c:\\users\\newad\\anaconda3\\lib\\site-packages (from albumentations>=1.0.3->-r requirements.txt (line 46)) (1.4.1.post1)\n",
      "Requirement already satisfied: opencv-python-headless>=4.9.0 in c:\\users\\newad\\anaconda3\\lib\\site-packages (from albumentations>=1.0.3->-r requirements.txt (line 46)) (4.9.0.80)\n",
      "Requirement already satisfied: smmap<5,>=3.0.1 in c:\\users\\newad\\anaconda3\\lib\\site-packages (from gitdb<5,>=4.0.1->gitpython->-r requirements.txt (line 5)) (4.0.0)\n",
      "Requirement already satisfied: parso<0.9.0,>=0.8.0 in c:\\users\\newad\\anaconda3\\lib\\site-packages (from jedi>=0.16->ipython->-r requirements.txt (line 6)) (0.8.3)\n",
      "Requirement already satisfied: wcwidth in c:\\users\\newad\\anaconda3\\lib\\site-packages (from prompt-toolkit<3.1.0,>=3.0.41->ipython->-r requirements.txt (line 6)) (0.2.5)\n",
      "Requirement already satisfied: imageio>=2.27 in c:\\users\\newad\\anaconda3\\lib\\site-packages (from scikit-image>=0.21.0->albumentations>=1.0.3->-r requirements.txt (line 46)) (2.33.1)\n",
      "Requirement already satisfied: tifffile>=2022.8.12 in c:\\users\\newad\\anaconda3\\lib\\site-packages (from scikit-image>=0.21.0->albumentations>=1.0.3->-r requirements.txt (line 46)) (2023.4.12)\n",
      "Requirement already satisfied: lazy_loader>=0.3 in c:\\users\\newad\\anaconda3\\lib\\site-packages (from scikit-image>=0.21.0->albumentations>=1.0.3->-r requirements.txt (line 46)) (0.3)\n",
      "Requirement already satisfied: joblib>=1.2.0 in c:\\users\\newad\\anaconda3\\lib\\site-packages (from scikit-learn>=1.3.2->albumentations>=1.0.3->-r requirements.txt (line 46)) (1.2.0)\n",
      "Requirement already satisfied: threadpoolctl>=2.0.0 in c:\\users\\newad\\anaconda3\\lib\\site-packages (from scikit-learn>=1.3.2->albumentations>=1.0.3->-r requirements.txt (line 46)) (2.2.0)\n",
      "Requirement already satisfied: MarkupSafe>=2.1.1 in c:\\users\\newad\\anaconda3\\lib\\site-packages (from werkzeug>=1.0.1->tensorboard>=2.4.1->-r requirements.txt (line 22)) (2.1.3)\n",
      "Requirement already satisfied: executing in c:\\users\\newad\\anaconda3\\lib\\site-packages (from stack-data->ipython->-r requirements.txt (line 6)) (0.8.3)\n",
      "Requirement already satisfied: asttokens in c:\\users\\newad\\anaconda3\\lib\\site-packages (from stack-data->ipython->-r requirements.txt (line 6)) (2.0.5)\n",
      "Requirement already satisfied: pure-eval in c:\\users\\newad\\anaconda3\\lib\\site-packages (from stack-data->ipython->-r requirements.txt (line 6)) (0.2.2)\n",
      "Requirement already satisfied: mpmath>=0.19 in c:\\users\\newad\\anaconda3\\lib\\site-packages (from sympy->torch>=1.7.0->-r requirements.txt (line 16)) (1.3.0)\n"
     ]
    }
   ],
   "source": [
    "!cd yolov9 && pip install -r requirements.txt"
   ],
   "metadata": {
    "collapsed": false,
    "ExecuteTime": {
     "end_time": "2024-03-29T03:00:37.351042Z",
     "start_time": "2024-03-29T03:00:34.354222Z"
    }
   },
   "id": "2ede661de2523f57",
   "execution_count": 39
  },
  {
   "cell_type": "code",
   "outputs": [
    {
     "name": "stdout",
     "output_type": "stream",
     "text": [
      "Collecting opencv-python-headless==4.8.0.74\n",
      "  Using cached opencv_python_headless-4.8.0.74-cp37-abi3-win_amd64.whl.metadata (19 kB)\n",
      "Requirement already satisfied: numpy>=1.21.2 in c:\\users\\newad\\anaconda3\\lib\\site-packages (from opencv-python-headless==4.8.0.74) (1.26.4)\n",
      "Using cached opencv_python_headless-4.8.0.74-cp37-abi3-win_amd64.whl (38.0 MB)\n",
      "Installing collected packages: opencv-python-headless\n",
      "  Attempting uninstall: opencv-python-headless\n",
      "    Found existing installation: opencv-python-headless 4.9.0.80\n",
      "    Uninstalling opencv-python-headless-4.9.0.80:\n",
      "      Successfully uninstalled opencv-python-headless-4.9.0.80\n",
      "Successfully installed opencv-python-headless-4.8.0.74\n"
     ]
    },
    {
     "name": "stderr",
     "output_type": "stream",
     "text": [
      "ERROR: pip's dependency resolver does not currently take into account all the packages that are installed. This behaviour is the source of the following dependency conflicts.\n",
      "albumentations 1.4.2 requires opencv-python-headless>=4.9.0, but you have opencv-python-headless 4.8.0.74 which is incompatible.\n"
     ]
    }
   ],
   "source": [
    "!pip install opencv-python-headless==4.8.0.74"
   ],
   "metadata": {
    "collapsed": false,
    "ExecuteTime": {
     "end_time": "2024-03-29T02:49:48.509556Z",
     "start_time": "2024-03-29T02:49:44.754968Z"
    }
   },
   "id": "ebb30e0333ace7a0",
   "execution_count": 21
  },
  {
   "cell_type": "code",
   "outputs": [
    {
     "name": "stdout",
     "output_type": "stream",
     "text": [
      "Requirement already satisfied: roboflow in c:\\users\\newad\\anaconda3\\lib\\site-packages (1.1.26)\n",
      "Requirement already satisfied: certifi==2023.7.22 in c:\\users\\newad\\anaconda3\\lib\\site-packages (from roboflow) (2023.7.22)\n",
      "Requirement already satisfied: chardet==4.0.0 in c:\\users\\newad\\anaconda3\\lib\\site-packages (from roboflow) (4.0.0)\n",
      "Requirement already satisfied: cycler==0.10.0 in c:\\users\\newad\\anaconda3\\lib\\site-packages (from roboflow) (0.10.0)\n",
      "Requirement already satisfied: idna==2.10 in c:\\users\\newad\\anaconda3\\lib\\site-packages (from roboflow) (2.10)\n",
      "Requirement already satisfied: kiwisolver>=1.3.1 in c:\\users\\newad\\anaconda3\\lib\\site-packages (from roboflow) (1.4.4)\n",
      "Requirement already satisfied: matplotlib in c:\\users\\newad\\anaconda3\\lib\\site-packages (from roboflow) (3.8.0)\n",
      "Requirement already satisfied: numpy>=1.18.5 in c:\\users\\newad\\anaconda3\\lib\\site-packages (from roboflow) (1.26.4)\n",
      "Requirement already satisfied: opencv-python-headless==4.8.0.74 in c:\\users\\newad\\anaconda3\\lib\\site-packages (from roboflow) (4.8.0.74)\n",
      "Requirement already satisfied: Pillow>=7.1.2 in c:\\users\\newad\\anaconda3\\lib\\site-packages (from roboflow) (10.2.0)\n",
      "Requirement already satisfied: python-dateutil in c:\\users\\newad\\anaconda3\\lib\\site-packages (from roboflow) (2.8.2)\n",
      "Requirement already satisfied: python-dotenv in c:\\users\\newad\\anaconda3\\lib\\site-packages (from roboflow) (0.21.0)\n",
      "Requirement already satisfied: requests in c:\\users\\newad\\anaconda3\\lib\\site-packages (from roboflow) (2.31.0)\n",
      "Requirement already satisfied: six in c:\\users\\newad\\anaconda3\\lib\\site-packages (from roboflow) (1.16.0)\n",
      "Requirement already satisfied: urllib3>=1.26.6 in c:\\users\\newad\\anaconda3\\lib\\site-packages (from roboflow) (2.0.7)\n",
      "Requirement already satisfied: tqdm>=4.41.0 in c:\\users\\newad\\anaconda3\\lib\\site-packages (from roboflow) (4.65.0)\n",
      "Requirement already satisfied: PyYAML>=5.3.1 in c:\\users\\newad\\anaconda3\\lib\\site-packages (from roboflow) (6.0.1)\n",
      "Requirement already satisfied: requests-toolbelt in c:\\users\\newad\\anaconda3\\lib\\site-packages (from roboflow) (1.0.0)\n",
      "Requirement already satisfied: python-magic in c:\\users\\newad\\anaconda3\\lib\\site-packages (from roboflow) (0.4.27)\n",
      "Requirement already satisfied: colorama in c:\\users\\newad\\anaconda3\\lib\\site-packages (from tqdm>=4.41.0->roboflow) (0.4.6)\n",
      "Requirement already satisfied: contourpy>=1.0.1 in c:\\users\\newad\\anaconda3\\lib\\site-packages (from matplotlib->roboflow) (1.2.0)\n",
      "Requirement already satisfied: fonttools>=4.22.0 in c:\\users\\newad\\anaconda3\\lib\\site-packages (from matplotlib->roboflow) (4.25.0)\n",
      "Requirement already satisfied: packaging>=20.0 in c:\\users\\newad\\anaconda3\\lib\\site-packages (from matplotlib->roboflow) (23.1)\n",
      "Requirement already satisfied: pyparsing>=2.3.1 in c:\\users\\newad\\anaconda3\\lib\\site-packages (from matplotlib->roboflow) (3.0.9)\n",
      "Requirement already satisfied: charset-normalizer<4,>=2 in c:\\users\\newad\\anaconda3\\lib\\site-packages (from requests->roboflow) (2.0.4)\n"
     ]
    }
   ],
   "source": [
    "!pip install roboflow"
   ],
   "metadata": {
    "collapsed": false,
    "ExecuteTime": {
     "end_time": "2024-03-29T02:50:04.430781Z",
     "start_time": "2024-03-29T02:50:01.865759Z"
    }
   },
   "id": "d18703f621adc0e0",
   "execution_count": 23
  },
  {
   "cell_type": "code",
   "outputs": [
    {
     "name": "stdout",
     "output_type": "stream",
     "text": [
      "Found existing installation: opencv-python-headless 4.9.0.80\n",
      "Uninstalling opencv-python-headless-4.9.0.80:\n",
      "  Successfully uninstalled opencv-python-headless-4.9.0.80\n",
      "Requirement already satisfied: opencv-python in c:\\users\\newad\\anaconda3\\lib\\site-packages (4.9.0.80)\n",
      "Requirement already satisfied: numpy>=1.21.2 in c:\\users\\newad\\anaconda3\\lib\\site-packages (from opencv-python) (1.26.4)\n"
     ]
    }
   ],
   "source": [
    "!pip uninstall opencv-python-headless -y\n",
    "\n",
    "!pip install opencv-python --upgrade"
   ],
   "metadata": {
    "collapsed": false,
    "ExecuteTime": {
     "end_time": "2024-03-29T02:45:09.982013Z",
     "start_time": "2024-03-29T02:45:05.874717Z"
    }
   },
   "id": "d1d5ede56cf915ac",
   "execution_count": 10
  },
  {
   "cell_type": "code",
   "outputs": [
    {
     "name": "stdout",
     "output_type": "stream",
     "text": [
      "Requirement already satisfied: opencv-python in c:\\users\\newad\\anaconda3\\lib\\site-packages (4.9.0.80)\n",
      "Requirement already satisfied: numpy>=1.21.2 in c:\\users\\newad\\anaconda3\\lib\\site-packages (from opencv-python) (1.26.4)\n"
     ]
    }
   ],
   "source": [
    "!pip install opencv-python"
   ],
   "metadata": {
    "collapsed": false,
    "ExecuteTime": {
     "end_time": "2024-03-29T02:46:05.954500Z",
     "start_time": "2024-03-29T02:46:03.383614Z"
    }
   },
   "id": "4f096ba6f6d2c27b",
   "execution_count": 16
  },
  {
   "cell_type": "code",
   "outputs": [
    {
     "name": "stdout",
     "output_type": "stream",
     "text": [
      "Requirement already satisfied: opencv-python in c:\\users\\newad\\anaconda3\\lib\\site-packages (4.9.0.80)\n",
      "Requirement already satisfied: numpy>=1.21.2 in c:\\users\\newad\\anaconda3\\lib\\site-packages (from opencv-python) (1.26.4)\n"
     ]
    }
   ],
   "source": [
    "!pip install opencv-python"
   ],
   "metadata": {
    "collapsed": false,
    "ExecuteTime": {
     "end_time": "2024-03-29T02:46:48.660924Z",
     "start_time": "2024-03-29T02:46:45.850519Z"
    }
   },
   "id": "fe4a376d885dfbff",
   "execution_count": 18
  },
  {
   "cell_type": "code",
   "outputs": [],
   "source": [
    "import cv2"
   ],
   "metadata": {
    "collapsed": false,
    "ExecuteTime": {
     "end_time": "2024-03-29T02:50:14.974679Z",
     "start_time": "2024-03-29T02:50:11.057541Z"
    }
   },
   "id": "9b4b0712c8137aba",
   "execution_count": 24
  },
  {
   "cell_type": "code",
   "outputs": [
    {
     "name": "stderr",
     "output_type": "stream",
     "text": [
      "\u001B[34m\u001B[1mdetect: \u001B[0mweights=['yolov5/yolov9_1ep.pt'], source=0, data=yolov9\\data\\coco128.yaml, imgsz=[640, 640], conf_thres=0.5, iou_thres=0.45, max_det=1000, device=cpu, view_img=False, save_txt=False, save_conf=False, save_crop=False, nosave=False, classes=None, agnostic_nms=False, augment=False, visualize=False, update=False, project=yolov9\\runs\\detect, name=exp, exist_ok=False, line_thickness=3, hide_labels=False, hide_conf=False, half=False, dnn=False, vid_stride=1\n",
      "\u001B[31m\u001B[1mrequirements:\u001B[0m YOLO requirement \"albumentations>=1.0.3\" not found, attempting AutoUpdate...\n",
      "  WARNING: Failed to remove contents in a temporary directory 'C:\\Users\\newad\\anaconda3\\Lib\\site-packages\\~v2'.\n",
      "  You can safely remove it manually.\n",
      "ERROR: pip's dependency resolver does not currently take into account all the packages that are installed. This behaviour is the source of the following dependency conflicts.\n",
      "roboflow 1.1.26 requires opencv-python-headless==4.8.0.74, but you have opencv-python-headless 4.9.0.80 which is incompatible.\n",
      "Requirement already satisfied: albumentations>=1.0.3 in c:\\users\\newad\\anaconda3\\lib\\site-packages (1.4.2)\n",
      "\n",
      "Requirement already satisfied: numpy>=1.24.4 in c:\\users\\newad\\anaconda3\\lib\\site-packages (from albumentations>=1.0.3) (1.26.4)\n",
      "\n",
      "Requirement already satisfied: scipy>=1.10.0 in c:\\users\\newad\\anaconda3\\lib\\site-packages (from albumentations>=1.0.3) (1.11.4)\n",
      "\n",
      "Requirement already satisfied: scikit-image>=0.21.0 in c:\\users\\newad\\anaconda3\\lib\\site-packages (from albumentations>=1.0.3) (0.22.0)\n",
      "\n",
      "Requirement already satisfied: PyYAML in c:\\users\\newad\\anaconda3\\lib\\site-packages (from albumentations>=1.0.3) (6.0.1)\n",
      "\n",
      "Requirement already satisfied: typing-extensions>=4.9.0 in c:\\users\\newad\\anaconda3\\lib\\site-packages (from albumentations>=1.0.3) (4.9.0)\n",
      "\n",
      "Requirement already satisfied: scikit-learn>=1.3.2 in c:\\users\\newad\\anaconda3\\lib\\site-packages (from albumentations>=1.0.3) (1.4.1.post1)\n",
      "\n",
      "Collecting opencv-python-headless>=4.9.0 (from albumentations>=1.0.3)\n",
      "\n",
      "  Using cached opencv_python_headless-4.9.0.80-cp37-abi3-win_amd64.whl.metadata (20 kB)\n",
      "\n",
      "Requirement already satisfied: networkx>=2.8 in c:\\users\\newad\\anaconda3\\lib\\site-packages (from scikit-image>=0.21.0->albumentations>=1.0.3) (3.1)\n",
      "\n",
      "Requirement already satisfied: pillow>=9.0.1 in c:\\users\\newad\\anaconda3\\lib\\site-packages (from scikit-image>=0.21.0->albumentations>=1.0.3) (10.2.0)\n",
      "\n",
      "Requirement already satisfied: imageio>=2.27 in c:\\users\\newad\\anaconda3\\lib\\site-packages (from scikit-image>=0.21.0->albumentations>=1.0.3) (2.33.1)\n",
      "\n",
      "Requirement already satisfied: tifffile>=2022.8.12 in c:\\users\\newad\\anaconda3\\lib\\site-packages (from scikit-image>=0.21.0->albumentations>=1.0.3) (2023.4.12)\n",
      "\n",
      "Requirement already satisfied: packaging>=21 in c:\\users\\newad\\anaconda3\\lib\\site-packages (from scikit-image>=0.21.0->albumentations>=1.0.3) (23.1)\n",
      "\n",
      "Requirement already satisfied: lazy_loader>=0.3 in c:\\users\\newad\\anaconda3\\lib\\site-packages (from scikit-image>=0.21.0->albumentations>=1.0.3) (0.3)\n",
      "\n",
      "Requirement already satisfied: joblib>=1.2.0 in c:\\users\\newad\\anaconda3\\lib\\site-packages (from scikit-learn>=1.3.2->albumentations>=1.0.3) (1.2.0)\n",
      "\n",
      "Requirement already satisfied: threadpoolctl>=2.0.0 in c:\\users\\newad\\anaconda3\\lib\\site-packages (from scikit-learn>=1.3.2->albumentations>=1.0.3) (2.2.0)\n",
      "\n",
      "Using cached opencv_python_headless-4.9.0.80-cp37-abi3-win_amd64.whl (38.5 MB)\n",
      "\n",
      "Installing collected packages: opencv-python-headless\n",
      "\n",
      "  Attempting uninstall: opencv-python-headless\n",
      "\n",
      "    Found existing installation: opencv-python-headless 4.8.0.74\n",
      "\n",
      "    Uninstalling opencv-python-headless-4.8.0.74:\n",
      "\n",
      "      Successfully uninstalled opencv-python-headless-4.8.0.74\n",
      "\n",
      "Successfully installed opencv-python-headless-4.9.0.80\n",
      "\n",
      "\n",
      "\u001B[31m\u001B[1mrequirements:\u001B[0m 1 package updated per C:\\Users\\newad\\DataspellProjects\\tpsh_2\\yolov9\\requirements.txt\n",
      "\u001B[31m\u001B[1mrequirements:\u001B[0m  \u001B[1mRestart runtime or rerun command for updates to take effect\u001B[0m\n",
      "\n",
      "YOLOv5  1e33dbb Python-3.11.7 torch-2.2.2+cu121 CPU\n",
      "\n",
      "Fusing layers... \n",
      "yolov9-e summary: 1119 layers, 69351410 parameters, 0 gradients, 243.3 GFLOPs\n",
      "WARNING  Environment does not support cv2.imshow() or PIL Image.show()\n",
      "OpenCV(4.8.0) D:\\a\\opencv-python\\opencv-python\\opencv\\modules\\highgui\\src\\window.cpp:1272: error: (-2:Unspecified error) The function is not implemented. Rebuild the library with Windows, GTK+ 2.x or Cocoa support. If you are on Ubuntu or Debian, install libgtk2.0-dev and pkg-config, then re-run cmake or configure script in function 'cvShowImage'\n",
      "\n",
      "1/1: 0...  Success (inf frames 640x480 at 30.00 FPS)\n",
      "\n",
      "Traceback (most recent call last):\n",
      "  File \"C:\\Users\\newad\\DataspellProjects\\tpsh_2\\yolov9\\detect.py\", line 232, in <module>\n",
      "    main(opt)\n",
      "  File \"C:\\Users\\newad\\DataspellProjects\\tpsh_2\\yolov9\\detect.py\", line 227, in main\n",
      "    run(**vars(opt))\n",
      "  File \"C:\\Users\\newad\\anaconda3\\Lib\\site-packages\\torch\\utils\\_contextlib.py\", line 115, in decorate_context\n",
      "    return func(*args, **kwargs)\n",
      "           ^^^^^^^^^^^^^^^^^^^^^\n",
      "  File \"C:\\Users\\newad\\DataspellProjects\\tpsh_2\\yolov9\\detect.py\", line 87, in run\n",
      "    for path, im, im0s, vid_cap, s in dataset:\n",
      "  File \"C:\\Users\\newad\\DataspellProjects\\tpsh_2\\yolov9\\utils\\dataloaders.py\", line 406, in __next__\n",
      "    if not all(x.is_alive() for x in self.threads) or cv2.waitKey(1) == ord('q'):  # q to quit\n",
      "                                                      ^^^^^^^^^^^^^^\n",
      "cv2.error: OpenCV(4.8.0) D:\\a\\opencv-python\\opencv-python\\opencv\\modules\\highgui\\src\\window.cpp:1338: error: (-2:Unspecified error) The function is not implemented. Rebuild the library with Windows, GTK+ 2.x or Cocoa support. If you are on Ubuntu or Debian, install libgtk2.0-dev and pkg-config, then re-run cmake or configure script in function 'cvWaitKey'\n",
      "\n"
     ]
    }
   ],
   "source": [
    "!python yolov9/detect.py --weights yolov5/yolov9_1ep.pt --conf 0.8 --source 0 --device 0"
   ],
   "metadata": {
    "collapsed": false,
    "ExecuteTime": {
     "end_time": "2024-03-29T02:50:29.296682Z",
     "start_time": "2024-03-29T02:50:16.595669Z"
    }
   },
   "id": "e00fe637d6e8900a",
   "execution_count": 25
  },
  {
   "cell_type": "code",
   "outputs": [
    {
     "name": "stdout",
     "output_type": "stream",
     "text": [
      "Requirement already satisfied: opencv-python==4.8.1.78 in c:\\users\\newad\\anaconda3\\lib\\site-packages (4.8.1.78)\n",
      "Requirement already satisfied: numpy>=1.21.2 in c:\\users\\newad\\anaconda3\\lib\\site-packages (from opencv-python==4.8.1.78) (1.26.4)\n"
     ]
    }
   ],
   "source": [
    "!pip install opencv-python==4.8.1.78"
   ],
   "metadata": {
    "collapsed": false,
    "ExecuteTime": {
     "end_time": "2024-03-29T07:43:02.971400Z",
     "start_time": "2024-03-29T07:43:00.448616Z"
    }
   },
   "id": "c42c9d3dc48c1e0c",
   "execution_count": 87
  },
  {
   "cell_type": "code",
   "outputs": [
    {
     "name": "stderr",
     "output_type": "stream",
     "text": [
      "2024-04-01 16:54:30.456861: I tensorflow/core/util/port.cc:113] oneDNN custom operations are on. You may see slightly different numerical results due to floating-point round-off errors from different computation orders. To turn them off, set the environment variable `TF_ENABLE_ONEDNN_OPTS=0`.\n",
      "WARNING:tensorflow:From C:\\Users\\newad\\anaconda3\\Lib\\site-packages\\keras\\src\\losses.py:2976: The name tf.losses.sparse_softmax_cross_entropy is deprecated. Please use tf.compat.v1.losses.sparse_softmax_cross_entropy instead.\n",
      "\n",
      "Traceback (most recent call last):\n",
      "  File \"C:\\Users\\newad\\DataspellProjects\\tpsh_2\\yolov9\\detect.py\", line 21, in <module>\n",
      "    import keras_ocr\n",
      "  File \"C:\\Users\\newad\\anaconda3\\Lib\\site-packages\\keras_ocr\\__init__.py\", line 1, in <module>\n",
      "    from . import (\n",
      "  File \"C:\\Users\\newad\\anaconda3\\Lib\\site-packages\\keras_ocr\\detection.py\", line 28, in <module>\n",
      "    import efficientnet.tfkeras as efficientnet\n",
      "  File \"C:\\Users\\newad\\anaconda3\\Lib\\site-packages\\efficientnet\\tfkeras.py\", line 4, in <module>\n",
      "    from .preprocessing import center_crop_and_resize\n",
      "  File \"C:\\Users\\newad\\anaconda3\\Lib\\site-packages\\efficientnet\\preprocessing.py\", line 16, in <module>\n",
      "    from skimage.transform import resize\n",
      "  File \"C:\\Users\\newad\\anaconda3\\Lib\\site-packages\\skimage\\__init__.py\", line 128, in <module>\n",
      "    from .util.dtype import (\n",
      "ModuleNotFoundError: No module named 'skimage.util.dtype'\n"
     ]
    }
   ],
   "source": [
    "!python yolov9/detect.py --weights bestie.pt --conf 0.5 --source 0 --device 0"
   ],
   "metadata": {
    "collapsed": false,
    "ExecuteTime": {
     "end_time": "2024-04-01T06:54:33.755083Z",
     "start_time": "2024-04-01T06:54:27.363979Z"
    }
   },
   "id": "2c896601a37a166a",
   "execution_count": 2
  },
  {
   "cell_type": "code",
   "outputs": [],
   "source": [],
   "metadata": {
    "collapsed": false,
    "ExecuteTime": {
     "end_time": "2024-03-29T07:34:02.875723Z",
     "start_time": "2024-03-29T07:34:02.873759Z"
    }
   },
   "id": "a5ec873bf6f64d12",
   "execution_count": 81
  },
  {
   "cell_type": "code",
   "outputs": [],
   "source": [],
   "metadata": {
    "collapsed": false
   },
   "id": "ab1057074ba34b1d"
  }
 ],
 "metadata": {
  "kernelspec": {
   "display_name": "Python 3",
   "language": "python",
   "name": "python3"
  },
  "language_info": {
   "codemirror_mode": {
    "name": "ipython",
    "version": 2
   },
   "file_extension": ".py",
   "mimetype": "text/x-python",
   "name": "python",
   "nbconvert_exporter": "python",
   "pygments_lexer": "ipython2",
   "version": "2.7.6"
  }
 },
 "nbformat": 4,
 "nbformat_minor": 5
}
